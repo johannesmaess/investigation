{
 "cells": [
  {
   "cell_type": "code",
   "execution_count": 8,
   "metadata": {},
   "outputs": [
    {
     "name": "stdout",
     "output_type": "stream",
     "text": [
      "The autoreload extension is already loaded. To reload it, use:\n",
      "  %reload_ext autoreload\n"
     ]
    },
    {
     "data": {
      "text/plain": [
       "(torch.Size([8400, 1, 28, 28]), torch.Size([8400]))"
      ]
     },
     "execution_count": 8,
     "metadata": {},
     "output_type": "execute_result"
    }
   ],
   "source": [
    "\n",
    "%load_ext autoreload\n",
    "%autoreload 2\n",
    "\n",
    "import shap\n",
    "from tqdm import tqdm\n",
    "\n",
    "from util.util_pickle import save_data, load_data\n",
    "from util.util_cnn import data_loaders, first_mnist_batch, load_mnist_v4_models\n",
    "from util.common import HiddenPrints\n",
    "from util.util_gamma_rule import calc_vals_batch\n",
    "from util.util_data_summary import *\n",
    "\n",
    "from util.naming import d3_tag, PICKLE_PATH\n",
    "import numpy as np\n",
    "import matplotlib.pyplot as plt\n",
    "\n",
    "# load model\n",
    "model_dict = load_mnist_v4_models()\n",
    "model_d3 = model_dict[d3_tag]\n",
    "\n",
    "data, target = first_mnist_batch(batch_size=10000)\n",
    "data.shape, target.shape"
   ]
  },
  {
   "cell_type": "code",
   "execution_count": 17,
   "metadata": {},
   "outputs": [],
   "source": [
    "# config\n",
    "config = {\n",
    "    'background_size': 100,\n",
    "    'batch_size': 10,\n",
    "    'model': d3_tag\n",
    "}\n",
    "# config = dict(sorted(config.items()))\n",
    "\n",
    "n_points = 100\n",
    "l_out = 15\n",
    "\n",
    "# load training data as shap background\n",
    "background, background_target = first_mnist_batch(batch_size=config[\"background_size\"], test=False)\n",
    "background = background.reshape((-1, 1, 28, 28))\n",
    "submodel = model_d3.seq[:l_out]\n",
    "e = shap.DeepExplainer(submodel, background)"
   ]
  },
  {
   "cell_type": "code",
   "execution_count": 43,
   "metadata": {},
   "outputs": [
    {
     "name": "stdout",
     "output_type": "stream",
     "text": [
      "Attempt loading: d3 Rels__15_to_0__testset100__shap__background_size-100__batch_size-10\n"
     ]
    },
    {
     "data": {
      "text/plain": [
       "(100, 256, 1, 28, 28)"
      ]
     },
     "execution_count": 43,
     "metadata": {},
     "output_type": "execute_result"
    }
   ],
   "source": [
    "## runs 80 to 246 mins\n",
    "if False:\n",
    "    with HiddenPrints(): shaps = e.shap_values(data[:n_points])      # dimensions: [num_classes, [datapoints, channels, x, y]]\n",
    "    shaps = np.stack(shaps).transpose((1, 0, 2, 3, 4))          # dimensions: [datapoints, num_classes, channels, x, y]\n",
    "    save_data('d3', f'Rels__{n_points}_to_0__testset{n_points}__shap__background_size-100__batch_size-10', shaps)\n",
    "    \n",
    "    if l_out == 'm0': # Rel0 only makes sense in the last layer, as we need the target class.\n",
    "        shaps_target_class = {'shap__background_size-100__batch_size-10': shaps[np.arange(len(shaps)), target[:len(shaps)]]}\n",
    "        save_data('d3', f'Rel0__{n_points}_to_0__testset{n_points}__shap__background_size-100__batch_size-10', shaps_target_class)\n",
    "        print(shaps_target_class.keys(), shaps_target_class[next(iter(shaps_target_class))].shape)\n",
    "else:\n",
    "    shaps              = load_data(\"d3\", f'Rels__{l_out}_to_0__testset{n_points}__shap__background_size-100__batch_size-10')\n",
    "    if l_out == 'm0': # Rel0 only makes sense in the last layer, as we need the target class.\n",
    "        shaps_target_class = load_data(\"d3\", f'Rel0__{l_out}_to_0__testset{n_points}__shap__background_size-100__batch_size-10')\n",
    "        print(shaps_target_class.keys(), shaps_target_class[next(iter(shaps_target_class))].shape)\n",
    "\n",
    "shaps.shape # (n_points, 10, 1, 28, 28)"
   ]
  },
  {
   "cell_type": "code",
   "execution_count": 38,
   "metadata": {},
   "outputs": [
    {
     "data": {
      "text/plain": [
       "(100, 256, 1, 28, 28)"
      ]
     },
     "execution_count": 38,
     "metadata": {},
     "output_type": "execute_result"
    }
   ],
   "source": [
    "shaps.shape"
   ]
  },
  {
   "cell_type": "code",
   "execution_count": 42,
   "metadata": {},
   "outputs": [
    {
     "data": {
      "text/plain": [
       "(100, 1, 28, 28)"
      ]
     },
     "execution_count": 42,
     "metadata": {},
     "output_type": "execute_result"
    }
   ],
   "source": [
    "shaps_target_class['shap__background_size-100__batch_size-10'].shape"
   ]
  },
  {
   "cell_type": "markdown",
   "metadata": {},
   "source": [
    "## Normalize"
   ]
  },
  {
   "cell_type": "code",
   "execution_count": 49,
   "metadata": {},
   "outputs": [
    {
     "data": {
      "text/plain": [
       "((100, 1, 256, 1, 28, 28), torch.Size([100, 256]))"
      ]
     },
     "execution_count": 49,
     "metadata": {},
     "output_type": "execute_result"
    }
   ],
   "source": [
    "mats[0].shape, output.shape"
   ]
  },
  {
   "cell_type": "code",
   "execution_count": 66,
   "metadata": {},
   "outputs": [
    {
     "name": "stdout",
     "output_type": "stream",
     "text": [
      "Attempt loading: d3 Rels__15_to_0__testset100__shap__background_size-100__batch_size-10\n",
      "subsection 0: (100, 1, 256, 1, 28, 28)  ->  (100, 1) (85, 784)\n",
      "Saved: ./pickle/d3/mats__15_to_0__testset100__shap__background_size-100__batch_size-10__p080.pickle\n"
     ]
    },
    {
     "name": "stderr",
     "output_type": "stream",
     "text": [
      "Creating an ndarray from ragged nested sequences (which is a list-or-tuple of lists-or-tuples-or ndarrays with different lengths or shapes) is deprecated. If you meant to do this, you must specify 'dtype=object' when creating the ndarray.\n"
     ]
    },
    {
     "data": {
      "text/plain": [
       "(1, (100, 1), (85, 784))"
      ]
     },
     "execution_count": 66,
     "metadata": {},
     "output_type": "execute_result"
    }
   ],
   "source": [
    "n_points = 100\n",
    "l_out = 15\n",
    "\n",
    "prefilter_positive_activations, first_p = True, 80\n",
    "all_logits = False\n",
    "normalized = True\n",
    "\n",
    "key = key_rels = f'__{l_out}_to_0__testset{n_points}__shap__background_size-100__batch_size-10'\n",
    "\n",
    "if not normalized: key += '__unnormalized'\n",
    "if all_logits: key += '__all_logits'\n",
    "if first_p: key += f'__p{first_p:03}'\n",
    "\n",
    "if True:\n",
    "    from util.data_wrangling import mask_unactivated__normalize__reshape\n",
    "    \n",
    "    n_points_save = 100000\n",
    "    mats = load_data(\"d3\", 'Rels'+key_rels)\n",
    "    mats = mats[:n_points_save]\n",
    "    output = submodel(data[:min(n_points, n_points_save)]).detach()\n",
    "    \n",
    "    mats = mats[None, :, None] # add a dummy dimension for different subsections of the network, and one for different parametrisation of the method\n",
    "    mats = mask_unactivated__normalize__reshape(mats, output, prefilter_positive_activations=prefilter_positive_activations, first_p=first_p)\n",
    "    \n",
    "    save_data(\"d3\", 'mats'+key, mats)\n",
    "else: \n",
    "    mats = load_data(\"d3\", 'mats'+key)\n",
    "    \n",
    "len(mats), mats[0].shape, mats[0][0,0].shape"
   ]
  },
  {
   "cell_type": "code",
   "execution_count": 67,
   "metadata": {},
   "outputs": [
    {
     "name": "stdout",
     "output_type": "stream",
     "text": [
      "Attempt loading: d3 mats__15_to_0__testset100__shap__background_size-100__batch_size-10__p080\n"
     ]
    },
    {
     "name": "stderr",
     "output_type": "stream",
     "text": [
      "0it [00:00, ?it/s]"
     ]
    },
    {
     "name": "stderr",
     "output_type": "stream",
     "text": [
      "100it [00:06, 14.57it/s]"
     ]
    },
    {
     "name": "stdout",
     "output_type": "stream",
     "text": [
      "Saved: ./pickle/d3/svals__15_to_0__testset100__shap__background_size-100__batch_size-10__p080.pickle\n"
     ]
    },
    {
     "name": "stderr",
     "output_type": "stream",
     "text": [
      "\n"
     ]
    },
    {
     "data": {
      "text/plain": [
       "(1, 100, 1, 112)"
      ]
     },
     "execution_count": 67,
     "metadata": {},
     "output_type": "execute_result"
    }
   ],
   "source": [
    "if True:\n",
    "    mats = load_data(\"d3\", 'mats'+key)\n",
    "    vals = calc_vals_batch(mats, num_vals='auto', tqdm_for='point', return_vecs=False)\n",
    "    save_data('d3', 'svals'+key, vals)\n",
    "else:\n",
    "    vals = load_data('d3', 'svals'+key)\n",
    "    \n",
    "vals.shape"
   ]
  },
  {
   "cell_type": "code",
   "execution_count": 52,
   "metadata": {},
   "outputs": [
    {
     "name": "stdout",
     "output_type": "stream",
     "text": [
      "(1, 8400)\n"
     ]
    },
    {
     "data": {
      "image/png": "[encoded data removed]",
      "text/plain": [
       "<Figure size 500x500 with 1 Axes>"
      ]
     },
     "metadata": {},
     "output_type": "display_data"
    }
   ],
   "source": [
    "ylim = (1,1000)\n",
    "\n",
    "d = condition_number(vals, percentile=.95)[:, :, 0]\n",
    "print(d.shape)\n",
    "# boxplot vertical, log scaled y axis:\n",
    "fig, axs = plt.subplots(1, len(d), figsize=(5, 5))\n",
    "if len(d)==1: axs=[axs]\n",
    "for ax, d in zip(axs, d):\n",
    "    ax.set_yscale('log')\n",
    "    ax.boxplot(d, vert=True, showfliers=True, whis=[5, 95])\n",
    "    ax.set_ylim(ylim)"
   ]
  },
  {
   "cell_type": "code",
   "execution_count": 50,
   "metadata": {},
   "outputs": [
    {
     "name": "stdout",
     "output_type": "stream",
     "text": [
      "(1, 8400)\n"
     ]
    },
    {
     "data": {
      "image/png": "[encoded data removed]",
      "text/plain": [
       "<Figure size 500x500 with 1 Axes>"
      ]
     },
     "metadata": {},
     "output_type": "display_data"
    }
   ],
   "source": [
    "ylim = (1,1000)\n",
    "\n",
    "d = condition_number(vals, percentile=.95)[:, :, 0]\n",
    "print(d.shape)\n",
    "# boxplot vertical, log scaled y axis:\n",
    "fig, axs = plt.subplots(1, len(d), figsize=(5, 5))\n",
    "if len(d)==1: axs=[axs]\n",
    "for ax, d in zip(axs, d):\n",
    "    ax.set_yscale('log')\n",
    "    ax.boxplot(d, vert=True, showfliers=True, whis=[5, 95])\n",
    "    ax.set_ylim(ylim)"
   ]
  },
  {
   "cell_type": "markdown",
   "metadata": {},
   "source": [
    "## Before introducing normalization to SHAP matrices\n",
    "(we don't force matrix columns to sum to 1.)"
   ]
  },
  {
   "cell_type": "code",
   "execution_count": 4,
   "metadata": {},
   "outputs": [
    {
     "name": "stdout",
     "output_type": "stream",
     "text": [
      "Attempt loading: d3 Rels__m0_to_0__testset__shap__background_size-100__batch_size-10\n",
      "subsection 0: (8400, 1, 10, 1, 28, 28)  ->  (8400, 1, 10, 784)\n",
      "Saved: ./pickle/d3/mats__m0_to_0__testset__shap__background_size-100__batch_size-10__unnormalized.pickle\n"
     ]
    },
    {
     "data": {
      "text/plain": [
       "(1, (8400, 1, 10, 784))"
      ]
     },
     "execution_count": 4,
     "metadata": {},
     "output_type": "execute_result"
    }
   ],
   "source": [
    "if True:\n",
    "    from util.data_wrangling import mask_unactivated__normalize__reshape\n",
    "\n",
    "    mats_unnormalized = load_data(\"d3\", 'Rels__m0_to_0__testset__shap__background_size-100__batch_size-10')\n",
    "    \n",
    "    mats_unnormalized = mats_unnormalized[None, :, None] # add a dummy dimension for different subsections of the network, and one for different parametrisation of the method\n",
    "    mats_unnormalized = mask_unactivated__normalize__reshape(mats_unnormalized, model_d3(data), normalize=False)\n",
    "    \n",
    "\n",
    "    save_data(\"d3\", 'mats__m0_to_0__testset__shap__background_size-100__batch_size-10__unnormalized', mats_unnormalized)\n",
    "else: \n",
    "    mats_unnormalized = load_data(\"d3\", 'mats__m0_to_0__testset__shap__background_size-100__batch_size-10__unnormalized')\n",
    "    \n",
    "len(mats_unnormalized), mats_unnormalized[0].shape"
   ]
  },
  {
   "cell_type": "code",
   "execution_count": 17,
   "metadata": {},
   "outputs": [
    {
     "name": "stderr",
     "output_type": "stream",
     "text": [
      "8400it [00:01, 7581.76it/s]\n"
     ]
    },
    {
     "data": {
      "text/plain": [
       "(1, 8400, 1, 7)"
      ]
     },
     "execution_count": 17,
     "metadata": {},
     "output_type": "execute_result"
    }
   ],
   "source": [
    "key = ('d3', 'svals__m0_to_0__testset__shap__background_size-100__batch_size-10__unnormalized')\n",
    "if False:\n",
    "    vals_unnormalized = calc_vals_batch(mats_unnormalized, num_vals='auto', tqdm_for='point', return_vecs=False)\n",
    "    save_data(*key, vals_unnormalized)\n",
    "else:\n",
    "    vals_unnormalized = load_data(*key)\n",
    "    \n",
    "vals_unnormalized.shape"
   ]
  },
  {
   "cell_type": "code",
   "execution_count": 18,
   "metadata": {},
   "outputs": [
    {
     "name": "stdout",
     "output_type": "stream",
     "text": [
      "(1, 8400)\n"
     ]
    },
    {
     "data": {
      "image/png": "[encoded data removed]",
      "text/plain": [
       "<Figure size 500x500 with 1 Axes>"
      ]
     },
     "metadata": {},
     "output_type": "display_data"
    }
   ],
   "source": [
    "ylim = (1,1000)\n",
    "\n",
    "d = condition_number(vals_unnormalized, percentile=.95)[:, :, 0]\n",
    "print(d.shape)\n",
    "# boxplot vertical, log scaled y axis:\n",
    "fig, axs = plt.subplots(1, len(d), figsize=(5, 5))\n",
    "if len(d)==1: axs=[axs]\n",
    "for ax, d in zip(axs, d):\n",
    "    ax.set_yscale('log')\n",
    "    ax.boxplot(d, vert=True, showfliers=True, whis=[5, 95])\n",
    "    ax.set_ylim(ylim)"
   ]
  },
  {
   "cell_type": "markdown",
   "metadata": {},
   "source": [
    "### Background 400 (don't rerun, we don't have the data)"
   ]
  },
  {
   "cell_type": "code",
   "execution_count": null,
   "metadata": {},
   "outputs": [
    {
     "name": "stdout",
     "output_type": "stream",
     "text": [
      "(1, 20)\n"
     ]
    },
    {
     "data": {
      "image/png": "[encoded data removed]",
      "text/plain": [
       "<Figure size 500x500 with 1 Axes>"
      ]
     },
     "metadata": {},
     "output_type": "display_data"
    }
   ],
   "source": [
    "ylim = (1,1000)\n",
    "\n",
    "d = condition_number(vals, percentile=.95)[:, :, 0]\n",
    "print(d.shape)\n",
    "# boxplot vertical, log scaled y axis:\n",
    "fig, axs = plt.subplots(1, len(d), figsize=(5, 5))\n",
    "if len(d)==1: axs=[axs]\n",
    "for ax, d in zip(axs, d):\n",
    "    ax.set_yscale('log')\n",
    "    ax.boxplot(d, vert=True, showfliers=True, whis=[5, 95])\n",
    "    ax.set_ylim(ylim)"
   ]
  },
  {
   "cell_type": "markdown",
   "metadata": {},
   "source": [
    "## L1 operator norm of shap (with and without normalization):"
   ]
  },
  {
   "cell_type": "code",
   "execution_count": 34,
   "metadata": {},
   "outputs": [
    {
     "data": {
      "text/plain": [
       "(18.261970860230164, 8.801821393790028)"
      ]
     },
     "execution_count": 34,
     "metadata": {},
     "output_type": "execute_result"
    }
   ],
   "source": [
    "np.abs(mats_unnormalized[0][4]).sum(axis=(2)).max(), np.abs(mats[0][4]).sum(axis=(2)).max()"
   ]
  },
  {
   "cell_type": "markdown",
   "metadata": {},
   "source": [
    "## PixelFlippin\n",
    "(copied most of the code from run-pixflip-pool)"
   ]
  },
  {
   "cell_type": "code",
   "execution_count": 67,
   "metadata": {},
   "outputs": [],
   "source": [
    "import quantus\n",
    "\n",
    "from util.quantus import *"
   ]
  },
  {
   "cell_type": "code",
   "execution_count": 84,
   "metadata": {},
   "outputs": [
    {
     "name": "stdout",
     "output_type": "stream",
     "text": [
      "(8400,)\n",
      "(8400, 1, 28, 28)\n"
     ]
    },
    {
     "name": "stderr",
     "output_type": "stream",
     "text": [
      "  0%|          | 0/168 [00:00<?, ?it/s]"
     ]
    },
    {
     "name": "stderr",
     "output_type": "stream",
     "text": [
      "The settings for perturbing input e.g., 'perturb_func' didn't cause change in input. Reconsider the parameter settings.\n",
      "100%|██████████| 168/168 [7:16:07<00:00, 155.76s/it]  \n"
     ]
    },
    {
     "name": "stdout",
     "output_type": "stream",
     "text": [
      "(8400,)\n",
      "(8400, 1, 28, 28)\n"
     ]
    },
    {
     "name": "stderr",
     "output_type": "stream",
     "text": [
      "100%|██████████| 168/168 [4:30:49<00:00, 96.72s/it]   \n"
     ]
    },
    {
     "name": "stdout",
     "output_type": "stream",
     "text": [
      "(8400,)\n",
      "(8400, 1, 28, 28)\n"
     ]
    },
    {
     "name": "stderr",
     "output_type": "stream",
     "text": [
      "100%|██████████| 168/168 [3:55:41<00:00, 84.18s/it]    \n"
     ]
    }
   ],
   "source": [
    "device=torch.device(\"mps\")\n",
    "model=model_d3\n",
    "model.eval()\n",
    "model.to(device)\n",
    "\n",
    "perturb_func=None\n",
    "perturb_baseline=\"mean\"\n",
    "for perturb_baseline in [\"mean\", \"black\", \"white\"]:\n",
    "    pixFlipMetric = quantus.PixelFlipping(disable_warnings = True, perturb_func=perturb_func, perturb_baseline=perturb_baseline)\n",
    "\n",
    "    def flipScores(x_batch, y_batch, a_batch):\n",
    "        return pixFlipMetric(\n",
    "\n",
    "            model=model,\n",
    "            x_batch=x_batch,\n",
    "            y_batch=y_batch,\n",
    "            a_batch=a_batch,\n",
    "            device=device\n",
    "        )\n",
    "\n",
    "    x_batch = data.numpy()\n",
    "    y_batch = target.numpy()\n",
    "    a_batch = shaps[np.arange(len(shaps)), y_batch]\n",
    "\n",
    "    n = 50\n",
    "    np.random.seed(42)\n",
    "    scores = []\n",
    "    assert len(x_batch) == len(y_batch) == len(a_batch), f\"Not matching shape: {x_batch.shape}, {y_batch.shape}, {a_batch.shape}\"\n",
    "\n",
    "    for i in tqdm(range(0, len(a_batch), n)):\n",
    "        # create minibatches to pass to pixflip system\n",
    "        xb = x_batch[i:i+n]\n",
    "        yb = y_batch[i:i+n]\n",
    "        ab = a_batch[i:i+n]\n",
    "        assert len(xb) == len(yb) == len(ab), f\"Not matching shape: {xb.shape}, {yb.shape}, {ab.shape}\"\n",
    "\n",
    "        minibatch_scores = flipScores(xb, yb, ab)\n",
    "        scores.append(minibatch_scores)\n",
    "\n",
    "    shared_dict_scores = {}\n",
    "    shared_dict_scores[\"background_size-100__batch_size-10\"] = { 'PixFlip': np.concatenate(scores, axis=0) }\n",
    "    save_data('d3', f'PixFlipScores__testset__{perturb_baseline}__background_size-100__batch_size-10', shared_dict_scores)"
   ]
  },
  {
   "cell_type": "markdown",
   "metadata": {},
   "source": [
    "## check results of different methods"
   ]
  },
  {
   "cell_type": "code",
   "execution_count": 90,
   "metadata": {},
   "outputs": [
    {
     "data": {
      "text/plain": [
       "(8400, 784)"
      ]
     },
     "execution_count": 90,
     "metadata": {},
     "output_type": "execute_result"
    }
   ],
   "source": [
    "dic = load_data('d3', f'PixFlipScores__testset__mean__background_size-100__batch_size-10')\n",
    "dic[\"background_size-100__batch_size-10\"]['PixFlip'].shape"
   ]
  },
  {
   "cell_type": "code",
   "execution_count": 89,
   "metadata": {},
   "outputs": [
    {
     "data": {
      "text/plain": [
       "(2, 784)"
      ]
     },
     "execution_count": 89,
     "metadata": {},
     "output_type": "execute_result"
    }
   ],
   "source": [
    "dic = load_data('d3', f'PixFlipScores__testset2__mean__all_gamma__gammas80')\n",
    "dic[next(iter(dic))]['PixFlip'].shape"
   ]
  },
  {
   "cell_type": "code",
   "execution_count": 95,
   "metadata": {},
   "outputs": [
    {
     "data": {
      "text/plain": [
       "torch.Size([100, 1, 28, 28])"
      ]
     },
     "execution_count": 95,
     "metadata": {},
     "output_type": "execute_result"
    }
   ],
   "source": [
    "relevancies_per_mode[next(iter(relevancies_per_mode))].shape"
   ]
  },
  {
   "cell_type": "code",
   "execution_count": null,
   "metadata": {},
   "outputs": [
    {
     "data": {
      "text/plain": [
       "(4000, 1, 10, 784)"
      ]
     },
     "metadata": {},
     "output_type": "display_data"
    }
   ],
   "source": [
    "relevancies_per_mode[next(iter(relevancies_per_mode))].shape"
   ]
  },
  {
   "cell_type": "markdown",
   "metadata": {},
   "source": [
    "## Helpers"
   ]
  },
  {
   "cell_type": "markdown",
   "metadata": {},
   "source": [
    "### Run on mps?"
   ]
  },
  {
   "cell_type": "code",
   "execution_count": 19,
   "metadata": {},
   "outputs": [
    {
     "name": "stdout",
     "output_type": "stream",
     "text": [
      "tensor([1.], device='mps:0')\n"
     ]
    },
    {
     "name": "stderr",
     "output_type": "stream",
     "text": [
      "The operator 'aten::nonzero' is not currently supported on the MPS backend and will fall back to run on the CPU. This may have performance implications. (Triggered internally at /Users/runner/work/_temp/anaconda/conda-bld/pytorch_1666646835428/work/aten/src/ATen/mps/MPSFallback.mm:11.)\n"
     ]
    }
   ],
   "source": [
    "import torch\n",
    "if torch.backends.mps.is_available():\n",
    "    mps_device = torch.device(\"mps\")\n",
    "    x = torch.ones(1, device=mps_device)\n",
    "    print (x)\n",
    "else:\n",
    "    print (\"MPS device not found.\")"
   ]
  },
  {
   "cell_type": "markdown",
   "metadata": {},
   "source": [
    "### Time shap per batch size"
   ]
  },
  {
   "cell_type": "code",
   "execution_count": 40,
   "metadata": {},
   "outputs": [
    {
     "name": "stdout",
     "output_type": "stream",
     "text": [
      "0.7571961879730225\n",
      "1.4866139888763428\n",
      "2.9086108207702637\n",
      "5.904338836669922\n",
      "11.77690076828003\n",
      "[0.7571961879730225, 1.4866139888763428, 2.9086108207702637, 5.904338836669922, 11.77690076828003]\n"
     ]
    }
   ],
   "source": [
    "import time\n",
    "\n",
    "# Assuming data is your dataset\n",
    "num_runs = 10  # or however many runs you want to do\n",
    "num_datapoints = 2 ** np.arange(5)\n",
    "times = []\n",
    "for n in num_datapoints:\n",
    "    start_time = time.time()\n",
    "    with HiddenPrints(): \n",
    "        vals = e.shap_values(data[:n])  # dimensions: [num_classes, [datapoints, channels, x, y]]\n",
    "    vals = np.stack(vals).transpose((1, 0, 2, 3, 4))  # dimensions: [datapoints, num_classes, channels, x, y]\n",
    "    end_time = time.time()\n",
    "    times.append(end_time - start_time)\n",
    "    print(end_time - start_time)\n",
    "\n",
    "print(times)"
   ]
  },
  {
   "cell_type": "code",
   "execution_count": 15,
   "metadata": {},
   "outputs": [
    {
     "data": {
      "text/plain": [
       "[<matplotlib.lines.Line2D at 0x2a45eb940>]"
      ]
     },
     "execution_count": 15,
     "metadata": {},
     "output_type": "execute_result"
    },
    {
     "data": {
      "image/png": "[encoded data removed]",
      "text/plain": [
       "<Figure size 640x480 with 1 Axes>"
      ]
     },
     "metadata": {},
     "output_type": "display_data"
    }
   ],
   "source": [
    "times_400 = [3.007702112197876, 6.051133871078491, 12.198693752288818, 24.302546977996826, 48.533602237701416]\n",
    "times_100\n",
    "plt.plot(num_datapoints, times)"
   ]
  },
  {
   "cell_type": "code",
   "execution_count": null,
   "metadata": {},
   "outputs": [],
   "source": []
  }
 ],
 "metadata": {
  "kernelspec": {
   "display_name": "msc",
   "language": "python",
   "name": "python3"
  },
  "language_info": {
   "codemirror_mode": {
    "name": "ipython",
    "version": 3
   },
   "file_extension": ".py",
   "mimetype": "text/x-python",
   "name": "python",
   "nbconvert_exporter": "python",
   "pygments_lexer": "ipython3",
   "version": "3.10.13"
  }
 },
 "nbformat": 4,
 "nbformat_minor": 2
}
