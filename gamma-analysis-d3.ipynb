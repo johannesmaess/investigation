{
 "cells": [
  {
   "cell_type": "markdown",
   "id": "c2fb1063",
   "metadata": {
    "tags": []
   },
   "source": [
    "# Analyze modifications of the gamma rule on the entire MNIST CNNnetwork"
   ]
  },
  {
   "cell_type": "markdown",
   "id": "47a8eead",
   "metadata": {
    "tags": []
   },
   "source": [
    "#### Loading stuff"
   ]
  },
  {
   "cell_type": "code",
   "execution_count": null,
   "id": "04992528-e9ec-4f81-aa42-7c33b2ff196e",
   "metadata": {},
   "outputs": [],
   "source": [
    "1"
   ]
  },
  {
   "cell_type": "code",
   "execution_count": null,
   "id": "044b1be8-8e44-4bd3-9a08-746f01ffdc03",
   "metadata": {},
   "outputs": [],
   "source": [
    "%load_ext autoreload\n",
    "%autoreload 2\n",
    "\n",
    "import os\n",
    "from tqdm import tqdm\n",
    "import copy\n",
    "from functools import partial\n",
    "\n",
    "import numpy as np\n",
    "import torch\n",
    "import torch.nn.functional as F\n",
    "import matplotlib.pyplot as plt\n",
    "# import seaborn as sns\n",
    "# import pandas as pd\n",
    "\n",
    "# import quantus\n",
    "\n",
    "from util.util_cnn import CNNModel, data_loaders, first_mnist_batch, test, \\\n",
    "                params_to_filename, params_from_filename, load_mnist_v4_models\n",
    "\n",
    "from util.util_gamma_rule import \\\n",
    "                plot_vals_lineplot, plot_multiplicative_change, \\\n",
    "                col_norms_for_matrices, \\\n",
    "                global_conv_matrix_from_pytorch_layer, \\\n",
    "                calc_mats_batch, calc_vals_batch\n",
    "\n",
    "from util.util_lrp import layerwise_forward_pass, compute_relevancies, LRP_global_mat, calc_mats_batch_functional, forward_and_explain\n",
    "from util.util_matrix_norms import calc_norm_dict\n",
    "from util.util_data_summary import *\n",
    "from util.util_pickle import *\n",
    "from util.naming import *\n",
    "\n",
    "from learning_lrp import perturb_point\n",
    "\n",
    "import util.util_tutorial as tut_utils"
   ]
  },
  {
   "cell_type": "code",
   "execution_count": null,
   "id": "cc375e45",
   "metadata": {},
   "outputs": [],
   "source": [
    "del CNNModel\n",
    "from util.util_cnn import CNNModel"
   ]
  },
  {
   "cell_type": "code",
   "execution_count": null,
   "id": "4a45b321-a5bb-4420-ac6a-8854460d41f2",
   "metadata": {},
   "outputs": [],
   "source": [
    "%matplotlib inline"
   ]
  },
  {
   "cell_type": "code",
   "execution_count": null,
   "id": "0b99df1e",
   "metadata": {},
   "outputs": [],
   "source": [
    "# load data and pretrained models\n",
    "data, target = first_mnist_batch()\n",
    "\n",
    "model_dict = load_mnist_v4_models()\n",
    "model_d3 = model_dict[d3_tag]"
   ]
  },
  {
   "cell_type": "code",
   "execution_count": null,
   "id": "2967dd2d",
   "metadata": {},
   "outputs": [],
   "source": [
    "ll =list(model_dict.keys())\n",
    "ll.sort()\n",
    "ll"
   ]
  },
  {
   "cell_type": "markdown",
   "id": "82a06648",
   "metadata": {
    "tags": []
   },
   "source": [
    "### Print layers and hidden activaitonn shape"
   ]
  },
  {
   "cell_type": "code",
   "execution_count": null,
   "id": "a6d46685",
   "metadata": {},
   "outputs": [],
   "source": [
    "A, layers = layerwise_forward_pass(model_d3, data)\n",
    "A_shapes = [a.shape[1:] for a in A]\n",
    "\n",
    "for i, (a, l) in enumerate(zip(A, layers)):\n",
    "    print(i, \"Input:\", list(a.shape), '->', str(l).split('(')[0],\n",
    "    (list(l.weight.shape)) if isinstance(l, torch.nn.Conv2d) else \"\")"
   ]
  },
  {
   "cell_type": "markdown",
   "id": "ce7d1759",
   "metadata": {
    "tags": []
   },
   "source": [
    "## Svals of LRP transition of \"D3\" \n",
    "(an unnecessarily deep MNIST conv network, with 2x3 Convolutional layers)"
   ]
  },
  {
   "cell_type": "code",
   "execution_count": null,
   "id": "03737ec4",
   "metadata": {},
   "outputs": [],
   "source": [
    "for i, (a, l) in enumerate(zip(*layerwise_forward_pass(model_d3, data))):\n",
    "    print(i, \"Input:\", list(a.shape), '->', str(l).split('(')[0],\n",
    "    (list(l.weight.shape)) if isinstance(l, torch.nn.Conv2d) else \"\")"
   ]
  },
  {
   "cell_type": "markdown",
   "id": "8c83d9eb",
   "metadata": {},
   "source": [
    "### Global LRP, modify individual Layers with Gamma"
   ]
  },
  {
   "cell_type": "code",
   "execution_count": null,
   "id": "039b2f96",
   "metadata": {},
   "outputs": [],
   "source": [
    "d3_after_conv_layer"
   ]
  },
  {
   "cell_type": "code",
   "execution_count": null,
   "id": "52c07876-4773-4462-ae4f-0dcf39a67609",
   "metadata": {},
   "outputs": [],
   "source": [
    "n_points = 20 # len(data)\n",
    "mat_funcs = [partial(LRP_global_mat, model=model_d3, l_lb=l_ub-2, l_ub=l_ub, l_inp=1) for l_ub in d3_after_conv_layer]\n",
    "LRP_m0_to_1__individual_gamma__gammas40 = calc_mats_batch_functional(mat_funcs, gammas40, data[:n_points].reshape((n_points, -1)))"
   ]
  },
  {
   "cell_type": "code",
   "execution_count": null,
   "id": "148ba729-ef08-4200-80c3-578fbc5a99c8",
   "metadata": {},
   "outputs": [],
   "source": [
    "if False:\n",
    "    svals__m0_to_1__individual_gamma__gammas5, _ = calc_vals_batch(LRP_m0_to_1__individual_gamma__gammas5, num_vals='auto', tqdm_for='point')\n",
    "    save_data('d3', 'svals__m0_to_1__individual_gamma__gammas5', svals__m0_to_1__individual_gamma__gammas5)\n",
    "else:\n",
    "    svals__m0_to_1__individual_gamma__gammas5 = load_data('d3', 'svals__m0_to_1__individual_gamma__gammas5')\n",
    "    \n",
    "svals__m0_to_1__individual_gamma__gammas5.shape"
   ]
  },
  {
   "cell_type": "code",
   "execution_count": null,
   "id": "963b6b02-e183-457e-924a-4dfd48587e31",
   "metadata": {},
   "outputs": [],
   "source": [
    "if False:\n",
    "    svals__m0_to_1__individual_gamma__gammas40, _ = calc_vals_batch(LRP_m0_to_1__individual_gamma__gammas40, num_vals='auto', tqdm_for='point')\n",
    "    save_data('d3', 'svals__m0_to_1__individual_gamma__gammas40', svals__m0_to_1__individual_gamma__gammas40)\n",
    "else:\n",
    "    svals__m0_to_1__individual_gamma__gammas40 = load_data('d3', 'svals__m0_to_1__individual_gamma__gammas40')\n",
    "    \n",
    "svals__m0_to_1__individual_gamma__gammas40.shape"
   ]
  },
  {
   "cell_type": "code",
   "execution_count": null,
   "id": "cee169fd-eb6d-4843-aaa4-6ff127e64c1d",
   "metadata": {},
   "outputs": [],
   "source": [
    "plot_vals_lineplot(svals__m0_to_1__individual_gamma__gammas40[:, :1], gammas40, xlim=8, num_vals_total=200, colormap='seismic')"
   ]
  },
  {
   "cell_type": "code",
   "execution_count": null,
   "id": "89fcf92c",
   "metadata": {},
   "outputs": [],
   "source": [
    "plot_vals_lineplot(svals__m0_to_1__individual_gamma__gammas40[:, :1], gammas40, xlim=8, num_vals_total=200, colormap='seismic')"
   ]
  },
  {
   "cell_type": "code",
   "execution_count": null,
   "id": "cee169fd-eb6d-4843-aaa4-6ff127e64c1d",
   "metadata": {},
   "outputs": [],
   "source": [
    "plot_vals_lineplot(svals__m0_to_1__individual_gamma__gammas40[:, :1], gammas40, xlim=4, num_vals_total=200, colormap='seismic')"
   ]
  },
  {
   "cell_type": "code",
   "execution_count": null,
   "id": "b515e194",
   "metadata": {},
   "outputs": [],
   "source": [
    "# pulled up from below for comparison\n",
    "plot_vals_lineplot(svals__m0_to_1___cascading_gamma__gammas40[:, :1], gammas40, xlim=4, num_vals_total=200, colormap='seismic')"
   ]
  },
  {
   "cell_type": "code",
   "execution_count": null,
   "id": "0db3ab67-3294-4464-a03e-5253e33be1c9",
   "metadata": {},
   "outputs": [],
   "source": [
    "gammas40"
   ]
  },
  {
   "cell_type": "code",
   "execution_count": null,
   "id": "4c195f65-5bdf-4109-820d-8d100b515c82",
   "metadata": {},
   "outputs": [],
   "source": [
    "indices = [0, 23, -1]\n",
    "gammas40[indices]\n",
    "\n"
   ]
  },
  {
   "cell_type": "markdown",
   "id": "5d6dcb6d-b897-413c-8c84-5b8edc5b3921",
   "metadata": {},
   "source": [
    "#### Normalized multiplicative change"
   ]
  },
  {
   "cell_type": "code",
   "execution_count": null,
   "id": "b2dd821e-8488-4e9e-ab43-8c038ad556cb",
   "metadata": {
    "tags": []
   },
   "outputs": [],
   "source": [
    "# harmoic mean as a summary - y axis linear between 0 and 1\n",
    "plot_multiplicative_change(svals__m0_to_1__individual_gamma__gammas40, gammas40, normalize=True, hmean='points', yscale='linear', xlim=1, ylim=(0,1), sharey=True)"
   ]
  },
  {
   "cell_type": "code",
   "execution_count": null,
   "id": "4a248480-23b1-414d-b8f1-82eb7813ff7e",
   "metadata": {
    "collapsed": true,
    "jupyter": {
     "outputs_hidden": true
    },
    "tags": []
   },
   "outputs": [],
   "source": [
    "# individual points - y axis linear between 0 and 1\n",
    "for p in range(10):\n",
    "    print('point', p)\n",
    "    plot_multiplicative_change(svals__m0_to_1__individual_gamma__gammas40[:, p:p+1], gammas40, normalize=True, yscale='linear', xlim=1, ylim=(0,1), sharey=True)"
   ]
  },
  {
   "cell_type": "code",
   "execution_count": null,
   "id": "81ed031f-665f-4531-a2f5-7dbc10ea36b8",
   "metadata": {
    "tags": []
   },
   "outputs": [],
   "source": [
    "# harmoic mean as a summary - log-scaled, dynamic y axis\n",
    "plot_multiplicative_change(svals__m0_to_1__individual_gamma__gammas40, gammas40, normalize=True, hmean='points', xlim=4, sharey=False)"
   ]
  },
  {
   "cell_type": "code",
   "execution_count": null,
   "id": "fd825ccb-e4b2-4d3a-b914-3fe9733bfcca",
   "metadata": {
    "collapsed": true,
    "jupyter": {
     "outputs_hidden": true
    },
    "tags": []
   },
   "outputs": [],
   "source": [
    "# individual points - log-scaled, dynamic y axis\n",
    "for p in range(10):\n",
    "    print('point', p)\n",
    "    plot_multiplicative_change(svals__m0_to_1__individual_gamma__gammas40[:, p:p+1], gammas40, normalize=True, xlim=4, sharey=False)"
   ]
  },
  {
   "cell_type": "markdown",
   "id": "6fbcb7f2-6e07-45ff-ab39-1d2262f7eb83",
   "metadata": {},
   "source": [
    "#### Absolute multiplicative change"
   ]
  },
  {
   "cell_type": "code",
   "execution_count": null,
   "id": "c8e08668-3d47-4d94-b35f-09b7d18d6468",
   "metadata": {
    "tags": []
   },
   "outputs": [],
   "source": [
    "# harmoic mean as a summary\n",
    "plot_multiplicative_change(svals__m0_to_1__individual_gamma__gammas40, gammas40, normalize=False, hmean='points', yscale='linear', sharey=True, xlim=4)"
   ]
  },
  {
   "cell_type": "code",
   "execution_count": null,
   "id": "17bc4aa2-a431-481b-a11a-12e81f77e536",
   "metadata": {
    "tags": []
   },
   "outputs": [],
   "source": [
    "# harmoic mean as a summary\n",
    "plot_multiplicative_change(svals__m0_to_1__individual_gamma__gammas40, gammas40, normalize=False, hmean='points', xlim=4)"
   ]
  },
  {
   "cell_type": "markdown",
   "id": "18854b6f-52a0-416d-8cd4-68dc845c38d7",
   "metadata": {
    "tags": []
   },
   "source": [
    "### Global LRP - m1 to 1, modify individual Layers with Gamma"
   ]
  },
  {
   "cell_type": "code",
   "execution_count": null,
   "id": "9310b877-99df-4276-870f-b7d4d914ab57",
   "metadata": {},
   "outputs": [],
   "source": [
    "d3_after_conv_layer"
   ]
  },
  {
   "cell_type": "code",
   "execution_count": null,
   "id": "dbc7a054-7dac-4194-a3cc-e350407958c0",
   "metadata": {},
   "outputs": [],
   "source": [
    "n_points = 1 # len(data)\n",
    "mat_funcs = [partial(LRP_global_mat, model=model_d3, l_lb=l_ub-2, l_ub=l_ub, l_inp=1, l_out=-2) for l_ub in d3_after_conv_layer]\n",
    "LRP_m1_to_1__individual_gamma__gammas40 = calc_mats_batch_functional(mat_funcs, gammas40, data[:n_points].reshape((n_points, -1)))"
   ]
  },
  {
   "cell_type": "code",
   "execution_count": null,
   "id": "a5805a53-29c9-463b-865a-cf22a4fae108",
   "metadata": {},
   "outputs": [],
   "source": [
    "LRP_m1_to_1__individual_gamma__gammas40.shape"
   ]
  },
  {
   "cell_type": "code",
   "execution_count": null,
   "id": "62895930-3bbe-4e83-888b-eef370d21753",
   "metadata": {},
   "outputs": [],
   "source": [
    "if False:\n",
    "    svals__m1_to_1__individual_gamma__gammas40, _ = calc_vals_batch(LRP_m1_to_1__individual_gamma__gammas40, num_vals='auto', tqdm_for='point')\n",
    "    save_data('d3', 'svals__m1_to_1__individual_gamma__gammas40', svals__m1_to_1__individual_gamma__gammas40)\n",
    "else:\n",
    "    svals__m1_to_1__individual_gamma__gammas40 = load_data('d3', 'svals__m1_to_1__individual_gamma__gammas40')\n",
    "    \n",
    "svals__m1_to_1__individual_gamma__gammas40.shape"
   ]
  },
  {
   "cell_type": "code",
   "execution_count": null,
   "id": "da5588ee-d141-4ea9-a169-c9f354473418",
   "metadata": {},
   "outputs": [],
   "source": []
  },
  {
   "cell_type": "markdown",
   "id": "037be9c4-2af2-400b-a17e-1234e86f9a39",
   "metadata": {
    "tags": []
   },
   "source": [
    "### Global LRP modify increasing numbers of layers with Gamma"
   ]
  },
  {
   "cell_type": "code",
   "execution_count": null,
   "id": "9d7bb514",
   "metadata": {},
   "outputs": [],
   "source": [
    "mat_funcs = [partial(LRP_global_mat, model=model_d3, l_leq=l_leq, l_inp=1) for l_leq in d3_after_conv_layer]\n",
    "LRP_m0_to_1__cascading_gamma__gammas_0_1_21_inf = calc_mats_batch_functional(mat_funcs, gammas_0_1_21_inf, data[:].reshape((100, -1)))"
   ]
  },
  {
   "cell_type": "code",
   "execution_count": null,
   "id": "a8f87c3e-ee32-47b9-b4c8-570cca73790e",
   "metadata": {},
   "outputs": [],
   "source": [
    "mat_funcs = [partial(LRP_global_mat, model=model_d3, l_leq=l_leq, l_inp=1) for l_leq in d3_after_conv_layer]\n",
    "LRP_m0_to_1__cascading_gamma__gammas5 = calc_mats_batch_functional(mat_funcs, gammas5, data[:].reshape((100, -1)))"
   ]
  },
  {
   "cell_type": "code",
   "execution_count": null,
   "id": "d5f64a8c-8124-4c51-92a5-05eb3f825a64",
   "metadata": {
    "tags": []
   },
   "outputs": [],
   "source": [
    "mat_funcs = [partial(LRP_global_mat, model=model_d3, l_leq=l_leq, l_inp=1) for l_leq in d3_after_conv_layer]\n",
    "LRP__m0_to_1__cascading_gamma__gammas40 = calc_mats_batch_functional(mat_funcs, gammas40, data[:].reshape((100, -1)))"
   ]
  },
  {
   "cell_type": "code",
   "execution_count": null,
   "id": "513f1ca0-e8c1-472a-9dfb-a6fdc2a8255c",
   "metadata": {},
   "outputs": [],
   "source": [
    "if False:\n",
    "    svals__m0_to_1__cascading_gamma__gammas5, _ = calc_vals_batch(LRP_trans__cascading_gamma__gammas5, num_vals='auto', tqdm_for='point')\n",
    "    save_data('d3', 'svals__m0_to_1__cascading_gamma__gammas5', svals__m0_to_1__cascading_gamma__gammas5)\n",
    "else:\n",
    "    svals__m0_to_1__cascading_gamma__gammas5 = load_data('d3', 'svals__m0_to_1__cascading_gamma__gammas5')\n",
    "    \n",
    "svals__m0_to_1__cascading_gamma__gammas5.shape"
   ]
  },
  {
   "cell_type": "code",
   "execution_count": null,
   "id": "616c4e13-c0af-440d-b35d-9f41a0ef3bad",
   "metadata": {
    "tags": []
   },
   "outputs": [],
   "source": [
    "if False:\n",
    "    svals__m0_to_1__cascading_gamma__gammas_0_1_21_inf, _ = calc_vals_batch(LRP_m0_to_1__cascading_gamma__gammas_0_1_21_inf, num_vals='auto', tqdm_for='pnt')\n",
    "    save_data('d3', 'svals__m0_to_1__cascading_gamma__gammas_0_1_21_inf', svals__m0_to_1__cascading_gamma__gammas_0_1_21_inf)\n",
    "else:\n",
    "    svals__m0_to_1__cascading_gamma__gammas_0_1_21_inf = load_data('d3', 'svals__m0_to_1__cascading_gamma__gammas_0_1_21_inf')\n",
    "    \n",
    "svals__m0_to_1__cascading_gamma__gammas_0_1_21_inf.shape"
   ]
  },
  {
   "cell_type": "code",
   "execution_count": null,
   "id": "13bfaa62-bc87-4e00-b828-0bad878c0295",
   "metadata": {},
   "outputs": [],
   "source": [
    "if False:\n",
    "    svals__m0_to_1___cascading_gamma__gammas40, _ = calc_vals_batch(LRP__m0_to_1___cascading_gamma__gammas40, num_vals='auto', tqdm_for='point')\n",
    "    save_data('d3', 'svals__m0_to_1___cascading_gamma__gammas40', svals__m0_to_1___cascading_gamma__gammas40)\n",
    "else:\n",
    "    svals__m0_to_1___cascading_gamma__gammas40 = load_data('d3', 'svals__m0_to_1___cascading_gamma__gammas40')\n",
    "\n",
    "svals__m0_to_1___cascading_gamma__gammas40.shape"
   ]
  },
  {
   "attachments": {},
   "cell_type": "markdown",
   "id": "ad1aa038",
   "metadata": {},
   "source": [
    "#### Spectra"
   ]
  },
  {
   "cell_type": "code",
   "execution_count": null,
   "id": "3cfc8ea7",
   "metadata": {},
   "outputs": [],
   "source": [
    "print(\"The top most line plots the spectra for gamma = 0.15 !!\")\n",
    "\n",
    "i=0 # plot only gammas starting here\n",
    "plot_vals_lineplot(svals__m0_to_1___cascading_gamma__gammas40[4:, :1, i:], gammas40[i:]\n",
    "             , spectra=True\n",
    "             , norm_s1=True # , legend=False\n",
    "            #  , norm_g0=True\n",
    "             , ylim='p95'\n",
    "             # , colormap='seismic'\n",
    "             , yscale='log'\n",
    "             , one_plot_per='weight'\n",
    "            #  , legend=\"lower left\"\n",
    "             )"
   ]
  },
  {
   "cell_type": "code",
   "execution_count": null,
   "id": "f5eb7882",
   "metadata": {},
   "outputs": [],
   "source": [
    "plot_last_sval_maximum(svals__m0_to_1___cascading_gamma__gammas40, gammas40)"
   ]
  },
  {
   "cell_type": "code",
   "execution_count": null,
   "id": "75ade59e",
   "metadata": {},
   "outputs": [],
   "source": [
    "plot_last_sval(svals__m0_to_1___cascading_gamma__gammas40, gammas40)"
   ]
  },
  {
   "cell_type": "code",
   "execution_count": null,
   "id": "63b1fe33",
   "metadata": {},
   "outputs": [],
   "source": [
    "\n",
    "plot_determinant(svals__m0_to_1___cascading_gamma__gammas40, gammas40)"
   ]
  },
  {
   "cell_type": "code",
   "execution_count": null,
   "id": "829d2753",
   "metadata": {},
   "outputs": [],
   "source": [
    "i=0#21 # plot only gammas starting here\n",
    "plot_vals_lineplot(svals__m0_to_1___cascading_gamma__gammas40[-2:, :10, i:], gammas40[i:]\n",
    "             , spectra=True\n",
    "             , norm_s1=True # , legend=False\n",
    "            #  , norm_g0=True\n",
    "             , ylim='p95'\n",
    "             # , colormap='seismic'\n",
    "             , yscale='log'\n",
    "             , one_plot_per='point'\n",
    "            #  , legend=\"lower left\"\n",
    "             )"
   ]
  },
  {
   "cell_type": "code",
   "execution_count": null,
   "id": "8bd06379",
   "metadata": {},
   "outputs": [],
   "source": [
    "i=21 # plot only gammas starting here\n",
    "plot_vals_lineplot(svals__m0_to_1___cascading_gamma__gammas40[-2:, :10, :i], gammas40[:i]\n",
    "             , spectra=True\n",
    "             , norm_s1=True # , legend=False\n",
    "            #  , norm_g0=True\n",
    "             , ylim='p95'\n",
    "             # , colormap='seismic'\n",
    "             , yscale='log'\n",
    "             , one_plot_per='point'\n",
    "            #  , legend=\"lower left\"\n",
    "             )"
   ]
  },
  {
   "cell_type": "markdown",
   "id": "ac5468cc",
   "metadata": {},
   "source": [
    "#### Absolute Svals"
   ]
  },
  {
   "cell_type": "code",
   "execution_count": null,
   "id": "b515e194",
   "metadata": {},
   "outputs": [],
   "source": [
    "plot_vals_lineplot(svals__m0_to_1___cascading_gamma__gammas40[:, :1], gammas40, xlim=8, num_vals_total=200, colormap='seismic')"
   ]
  },
  {
   "cell_type": "code",
   "execution_count": null,
   "id": "045cab5b-4043-45de-9717-ffc72cb416ff",
   "metadata": {},
   "outputs": [],
   "source": [
    "distribution_plot(svals__m0_to_1__cascading_gamma__gammas5[:, :], gammas5, aggregate_over='points')"
   ]
  },
  {
   "cell_type": "code",
   "execution_count": null,
   "id": "46b1091d-02bb-4f46-a4c8-9704ed7d43d7",
   "metadata": {
    "tags": []
   },
   "outputs": [],
   "source": [
    "distribution_plot(svals__m0_to_1__cascading_gamma__gammas5[:, :], gammas5, aggregate_over='points', mode='violin')"
   ]
  },
  {
   "cell_type": "code",
   "execution_count": null,
   "id": "aa4f02ca-a5b4-4aa3-be71-85c9e92ba926",
   "metadata": {},
   "outputs": [],
   "source": [
    "plot_vals_lineplot(svals__m0_to_1__cascading_gamma__gammas_0_1_21_inf, gammas_0_1_21_inf, ylabel=\"Svals of global LRP\", ylim=25)"
   ]
  },
  {
   "cell_type": "code",
   "execution_count": null,
   "id": "5c152317-769e-478f-9d08-1b1eeb633daf",
   "metadata": {},
   "outputs": [],
   "source": [
    "svals = svals__m0_to_1__cascading_gamma__gammas_0_1_21_inf\n",
    "maxi = svals[:, :, -1].max(axis=2)\n",
    "maxi.shape\n",
    "plt.scatter(np.outer(np.arange(6), np.ones(100)), maxi)\n",
    "plt.yscale('log')\n",
    "plt.title('Max Sval at gamma=inf, for six different gamma configurations, and 100 datapoints')"
   ]
  },
  {
   "cell_type": "markdown",
   "id": "786a06ff-bc9f-40fc-af53-46cce4419e77",
   "metadata": {
    "jp-MarkdownHeadingCollapsed": true,
    "tags": []
   },
   "source": [
    "#### Picking out a point, for detailed plot (for proposal)"
   ]
  },
  {
   "cell_type": "code",
   "execution_count": null,
   "id": "183001e5-1b7b-4aab-862e-768d1bf292c4",
   "metadata": {
    "collapsed": true,
    "jupyter": {
     "outputs_hidden": true
    },
    "tags": []
   },
   "outputs": [],
   "source": [
    "for i in range(10):\n",
    "    plot_vals_lineplot(svals__m0_to_1__cascading_gamma__gammas_0_1_21_inf[:, i:i+1], gammas_0_1_21_inf, ylabel=\"Svals of global LRP\")#, ylim=25)"
   ]
  },
  {
   "cell_type": "code",
   "execution_count": null,
   "id": "1cf2a102-520b-4363-93e0-0700c3e6d0bd",
   "metadata": {},
   "outputs": [],
   "source": [
    "for i in [12, 17, 15, 16, 33, 34, 35]:\n",
    "    print(i)\n",
    "    plot_vals_lineplot(svals__m0_to_1__cascading_gamma__gammas_0_1_21_inf[:, i:i+1], gammas_0_1_21_inf, ylabel=\"Svals of global LRP\")#, ylim=25)"
   ]
  },
  {
   "cell_type": "markdown",
   "id": "7593def3-8751-4b67-9349-bfaef388ab79",
   "metadata": {
    "jp-MarkdownHeadingCollapsed": true,
    "tags": []
   },
   "source": [
    "#### Proposal Plot"
   ]
  },
  {
   "cell_type": "code",
   "execution_count": null,
   "id": "b5349560-97fb-4547-9256-afe3ac18200d",
   "metadata": {},
   "outputs": [],
   "source": [
    "svals = svals__m0_to_1___cascading_gamma__gammas40"
   ]
  },
  {
   "cell_type": "code",
   "execution_count": null,
   "id": "458b0739-ed47-4903-9468-cb562e1a162f",
   "metadata": {},
   "outputs": [],
   "source": [
    "fig, axs = plot_vals_lineplot(svals[3:4, :1], gammas40, xlim=4, ylabel=\"Singular values\", title=\"\", xscale='linear', figsize=(8,4), show=False)\n",
    "axs[0].set_xticks([0,1,2,3,4])\n",
    "axs[0].set_xticklabels([0,1,2,3,4])\n",
    "axs[0].set_yticks([0,1,2,3,4])\n",
    "axs[0].set_yticklabels([0,1,2,3,4])\n",
    "\n",
    "plt.legend()"
   ]
  },
  {
   "cell_type": "markdown",
   "id": "debd74f5-6430-4d59-9e3e-50640a6d8002",
   "metadata": {
    "jp-MarkdownHeadingCollapsed": true,
    "tags": []
   },
   "source": [
    "#### Log scaled x axis, and derivative"
   ]
  },
  {
   "cell_type": "code",
   "execution_count": null,
   "id": "767a159e-5f6b-4066-a7ad-52038c37398a",
   "metadata": {},
   "outputs": [],
   "source": [
    "fig, axs = plot_vals_lineplot(svals[:12,:, 30:], gammas40[30:], ylabel=\"Svals of global LRP\", xscale='log', show=0)\n",
    "for ax in axs: \n",
    "    ax.set_ylim((0, 24))"
   ]
  },
  {
   "cell_type": "code",
   "execution_count": null,
   "id": "13defa56-b40e-43a1-b7c5-40d4b65bea5a",
   "metadata": {},
   "outputs": [],
   "source": [
    "fig, axs = plot_vals_lineplot(svals[:12], gammas40, ylabel=\"Svals of global LRP\", xscale='log', show=0)\n",
    "for ax in axs: \n",
    "    ax.set_ylim((0, 24))\n",
    "    ax.set_xlim((1e-5, 1e6))"
   ]
  },
  {
   "cell_type": "code",
   "execution_count": null,
   "id": "c04f48ad-1555-4a82-b84a-a97b43649778",
   "metadata": {},
   "outputs": [],
   "source": [
    "fig, axs = plot_vals_lineplot(svals[:12], gammas40, ylabel=\"Svals of global LRP\", xscale='log', show=0)\n",
    "for ax in axs: \n",
    "    ax.set_ylim((0, 2))\n",
    "    ax.set_xlim((1e-5, 1e6))"
   ]
  },
  {
   "cell_type": "code",
   "execution_count": null,
   "id": "4ae86f56-82f1-432a-ad4a-18d2006b93bc",
   "metadata": {},
   "outputs": [],
   "source": [
    "plot_vals_lineplot(svals[:12], gammas40, ylabel=\"Svals of global LRP\", xscale='log', ylim=6)"
   ]
  },
  {
   "cell_type": "code",
   "execution_count": null,
   "id": "5cf867d7-058b-4fd9-bc1a-c531bc92385a",
   "metadata": {},
   "outputs": [],
   "source": [
    "slope = np.diff(svals, axis=2) / np.diff(gammas40[None, None, :, None], axis=2)"
   ]
  },
  {
   "cell_type": "code",
   "execution_count": null,
   "id": "83242e12-1ab9-47e9-a3bc-6479436dd0ec",
   "metadata": {},
   "outputs": [],
   "source": [
    "slope.min(axis=(1,2,3))"
   ]
  },
  {
   "cell_type": "code",
   "execution_count": null,
   "id": "75abd75f-ed43-4df3-92db-9aabdf6c7432",
   "metadata": {},
   "outputs": [],
   "source": [
    "plot_vals_lineplot(slope[:12], gammas40[1:], ylabel=\"Svals of global LRP\", xscale='log', ylim=(-80, 2))"
   ]
  },
  {
   "cell_type": "code",
   "execution_count": null,
   "id": "af55e8cd-9991-48a6-b6b1-d2f9a190f528",
   "metadata": {},
   "outputs": [],
   "source": [
    "plot_vals_lineplot(slope[:12], gammas40[1:], ylabel=\"Svals of global LRP\", xscale='log', ylim=(-1150, 2))"
   ]
  },
  {
   "cell_type": "code",
   "execution_count": null,
   "id": "37060097-5906-4361-9aaf-35e72563dca7",
   "metadata": {},
   "outputs": [],
   "source": [
    "plot_vals_lineplot(slope[:12], gammas40[1:], title=\"Derivative of Svals of global LRP\", ylabel=\"Derivative per Sval\", xscale='log', sharey=False, ylim=\"p100\")"
   ]
  },
  {
   "cell_type": "code",
   "execution_count": null,
   "id": "d8aee608-7571-4a61-ba6f-ae5436d131aa",
   "metadata": {},
   "outputs": [],
   "source": [
    "axs[0].get_shared_x_axes()"
   ]
  },
  {
   "cell_type": "code",
   "execution_count": null,
   "id": "de4ae619-94cd-41bc-89e2-7a757232603c",
   "metadata": {},
   "outputs": [],
   "source": [
    "plot_vals_lineplot(svals[:12], gammas40, ylabel=\"Svals of global LRP\", xscale='log')"
   ]
  },
  {
   "cell_type": "code",
   "execution_count": null,
   "id": "8b661432-2212-4280-a806-e68b8b0fb461",
   "metadata": {},
   "outputs": [],
   "source": [
    "plot_vals_lineplot(svals[:12], gammas40, ylabel=\"Svals of global LRP\", xscale='log')"
   ]
  },
  {
   "cell_type": "markdown",
   "id": "cfce6ca4",
   "metadata": {},
   "source": [
    "#### Normalized multiplicative change"
   ]
  },
  {
   "cell_type": "code",
   "execution_count": null,
   "id": "ba863fe9-980b-48c3-a6c3-06ca66304ce4",
   "metadata": {
    "tags": []
   },
   "outputs": [],
   "source": [
    "# harmoic mean as a summary - y axis linear between 0 and 1\n",
    "plot_multiplicative_change(svals__m0_to_1___cascading_gamma__gammas40, gammas40, normalize=True, hmean='points', yscale='linear', xlim=1, ylim=(0,1), sharey=True)"
   ]
  },
  {
   "cell_type": "code",
   "execution_count": null,
   "id": "6660629c",
   "metadata": {
    "tags": []
   },
   "outputs": [],
   "source": [
    "# harmoic mean as a summary - log-scaled, dynamic y axis\n",
    "plot_multiplicative_change(svals__m0_to_1___cascading_gamma__gammas40, gammas40, normalize=True, hmean='points', yscale='log', xlim=4, ylim='p100')"
   ]
  },
  {
   "cell_type": "markdown",
   "id": "50517c68",
   "metadata": {},
   "source": [
    "#### Absolute multiplicative change"
   ]
  },
  {
   "cell_type": "code",
   "execution_count": null,
   "id": "103e268c",
   "metadata": {},
   "outputs": [],
   "source": [
    "# total multiplicative change\n",
    "for p in range(3):\n",
    "    print('Point', p)\n",
    "    plot_multiplicative_change(svals__individual_layer__gammas5[:, p:p+1, :], gammas5, normalize=False, yscale='linear', sharey=True, num_vals_total=400)"
   ]
  },
  {
   "cell_type": "code",
   "execution_count": null,
   "id": "76f9c56f",
   "metadata": {
    "tags": []
   },
   "outputs": [],
   "source": [
    "# harmoic mean as a summary\n",
    "plot_multiplicative_change(svals__individual_layer__gammas5, gammas5, normalize=False, hmean='points', yscale='linear', sharey=True, num_vals_total=400)"
   ]
  },
  {
   "cell_type": "code",
   "execution_count": null,
   "id": "59adda2d",
   "metadata": {},
   "outputs": [],
   "source": [
    "svals = svals__m0_to_1___cascading_gamma__gammas40"
   ]
  },
  {
   "cell_type": "code",
   "execution_count": null,
   "id": "79fea8fd-b4fc-44ce-86c5-76e535290045",
   "metadata": {},
   "outputs": [],
   "source": [
    "plot_multiplicative_change(svals[:12, :1], gammas40, xlim=8, ylim='p100')# , one_plot_per='point')"
   ]
  },
  {
   "cell_type": "code",
   "execution_count": null,
   "id": "858430b8-23b4-4a7c-918f-bdb99567c22c",
   "metadata": {},
   "outputs": [],
   "source": [
    "for p in range(4):\n",
    "    print('point', p)\n",
    "    plot_multiplicative_change(svals[:, p:p+1], gammas40, xlim=8, ylim='p100')"
   ]
  },
  {
   "cell_type": "code",
   "execution_count": null,
   "id": "4f7a2ac5-1848-4ee4-9d0d-e6166f72e2be",
   "metadata": {},
   "outputs": [],
   "source": [
    "# harmoic mean as a summary\n",
    "plot_multiplicative_change(svals, gammas40, xlim=2, ylim='p100', hmean='points')"
   ]
  },
  {
   "cell_type": "code",
   "execution_count": null,
   "id": "82a63c30",
   "metadata": {},
   "outputs": [],
   "source": [
    "# harmoic mean as a summary\n",
    "plot_multiplicative_change(svals, gammas40, xlim=2, ylim='p100', hmean='points', yscale='linear')"
   ]
  },
  {
   "cell_type": "markdown",
   "id": "9dc76317-8a4d-4f04-959b-00c4f2c418b6",
   "metadata": {
    "jp-MarkdownHeadingCollapsed": true,
    "tags": []
   },
   "source": [
    "### Global (except first layer (box rule) and last layer (a Dense layer))"
   ]
  },
  {
   "cell_type": "code",
   "execution_count": null,
   "id": "1f0c819b-eb8c-4148-92d8-35cea0074b54",
   "metadata": {},
   "outputs": [],
   "source": [
    "mat_funcs = [partial(LRP_global_mat, model=model_d3, l_leq=l_leq, l_inp=1, l_out=-2, delete_unactivated_subnetwork=True) for l_leq in d3_after_conv_layer[:-1]]\n",
    "LRP__m1_to_1___cascading_gamma__gammas5 = calc_mats_batch_functional(mat_funcs, gammas5, data[:20])"
   ]
  },
  {
   "cell_type": "code",
   "execution_count": null,
   "id": "dba00443-89e1-4f98-b8c6-c0c1e60923ea",
   "metadata": {},
   "outputs": [],
   "source": [
    "mat_funcs = [partial(LRP_global_mat, model=model_d3, l_leq=l_leq, l_inp=1, l_out=-2) for l_leq in d3_after_conv_layer[:-1]]\n",
    "LRP__m1_to_1___cascading_gamma__gammas_0_1_21_inf = calc_mats_batch_functional(mat_funcs, gammas_0_1_21_inf, data, tqdm_for='point')"
   ]
  },
  {
   "cell_type": "code",
   "execution_count": null,
   "id": "eb4002af-2efe-4256-83d0-06326ca67832",
   "metadata": {},
   "outputs": [],
   "source": [
    "if False:\n",
    "    svals__m1_to_1___cascading_gamma__gammas5, _ = calc_vals_batch(LRP__m1_to_1___cascading_gamma__gammas5, num_vals='auto', tqdm_for='point')\n",
    "    save_data('d3', 'svals__m1_to_1___cascading_gamma__gammas5', svals__m1_to_1___cascading_gamma__gammas5)\n",
    "else:\n",
    "    svals__m1_to_1___cascading_gamma__gammas5 = load_data('d3', 'svals__m1_to_1___cascading_gamma__gammas5')"
   ]
  },
  {
   "cell_type": "code",
   "execution_count": null,
   "id": "571001c5-bda3-4360-8e61-56f587d09b91",
   "metadata": {},
   "outputs": [],
   "source": [
    "if False:\n",
    "    svals__m1_to_1___cascading_gamma__gammas_0_1_21_inf, _ = calc_vals_batch(LRP__m1_to_1___cascading_gamma__gammas_0_1_21_inf, num_vals='auto', tqdm_for='point')\n",
    "    save_data('d3', 'svals__m1_to_1___cascading_gamma__gammas_0_1_21_inf', svals__m1_to_1___cascading_gamma__gammas_0_1_21_inf)\n",
    "else:\n",
    "    svals__m1_to_1___cascading_gamma__gammas_0_1_21_inf = load_data('d3', 'svals__m1_to_1___cascading_gamma__gammas_0_1_21_inf')"
   ]
  },
  {
   "cell_type": "code",
   "execution_count": null,
   "id": "b30b4898-98a5-454a-8155-3fc4615d649c",
   "metadata": {},
   "outputs": [],
   "source": [
    "vals = svals__m1_to_1___cascading_gamma__gammas5\n",
    "vals.min(), vals[vals>0].min()"
   ]
  },
  {
   "cell_type": "code",
   "execution_count": null,
   "id": "1a420179-af23-4b3f-8cc4-4850d469f3a2",
   "metadata": {},
   "outputs": [],
   "source": []
  },
  {
   "cell_type": "code",
   "execution_count": null,
   "id": "d2f93fee-7795-4cc9-aa30-6b19f05bd6ac",
   "metadata": {},
   "outputs": [],
   "source": [
    "# linear scale\n",
    "plot_vals_lineplot(svals__m1_to_1___cascading_gamma__gammas5, gammas5, ylabel=\"Svals of global LRP\", ylim=200)"
   ]
  },
  {
   "cell_type": "code",
   "execution_count": null,
   "id": "69b4ec74-7f7b-4051-8944-a5d4dd4054f9",
   "metadata": {},
   "outputs": [],
   "source": [
    "# log scale\n",
    "plot_vals_lineplot(svals__m1_to_1___cascading_gamma__gammas5, gammas5, ylabel=\"Svals of global LRP\", ylim=200, yscale='log', ylim=\"p100\")"
   ]
  },
  {
   "cell_type": "code",
   "execution_count": null,
   "id": "b8ed2d1a-5bfb-4ef6-8e59-1b44dda1643a",
   "metadata": {},
   "outputs": [],
   "source": [
    "distribution_plot(svals__m1_to_1___cascading_gamma__gammas5[:, :], gammas5, aggregate_over='points')"
   ]
  },
  {
   "cell_type": "code",
   "execution_count": null,
   "id": "cfc6d410-c213-464b-909e-b142cb72c901",
   "metadata": {},
   "outputs": [],
   "source": [
    "distribution_plot(svals__m1_to_1___cascading_gamma__gammas5[:, :], gammas5, aggregate_over='points', mode='violin')"
   ]
  },
  {
   "cell_type": "markdown",
   "id": "beedaaf0-b11a-412c-85e7-59817200c4f7",
   "metadata": {
    "jp-MarkdownHeadingCollapsed": true,
    "tags": []
   },
   "source": [
    "#### Hists per point"
   ]
  },
  {
   "cell_type": "code",
   "execution_count": null,
   "id": "de646bc2-f455-4c48-ae88-b53345cd2f93",
   "metadata": {},
   "outputs": [],
   "source": [
    "distribution_plot(svals__m1_to_1___cascading_gamma__gammas5[:, :4], gammas5, aggregate_over='x')"
   ]
  },
  {
   "cell_type": "code",
   "execution_count": null,
   "id": "3bcd69db-ee09-4c8c-a1f2-4ac39200fc70",
   "metadata": {},
   "outputs": [],
   "source": [
    "distribution_plot(svals__m1_to_1___cascading_gamma__gammas5[:, :4], gammas5, aggregate_over='x')"
   ]
  },
  {
   "cell_type": "markdown",
   "id": "912a2dcc-6465-4b71-8181-0d20fa738586",
   "metadata": {
    "tags": []
   },
   "source": [
    "#### Compare Singular values with L1-induced norm"
   ]
  },
  {
   "cell_type": "code",
   "execution_count": null,
   "id": "8e548985-7b82-4209-a126-9e0776730a4c",
   "metadata": {},
   "outputs": [],
   "source": [
    "norm_dict = calc_norm_dict(LRP__m1_to_1___cascading_gamma__gammas5, svals__m1_to_1___cascading_gamma__gammas5)"
   ]
  },
  {
   "cell_type": "code",
   "execution_count": null,
   "id": "41ff9cf7-9a5d-49df-a176-841f61788955",
   "metadata": {},
   "outputs": [],
   "source": [
    "tag_line = [\"L1_lower\", \"L1_upper\", \"Linf_lower\", \"Linf_upper\", \"sqrt_L1_Linf\", \"L2\", \"L1\", \"Linf\", \"frobenius\"]\n",
    "norms = np.stack(list(norm_dict[tag] for tag in tag_line), axis=3)\n",
    "print(norms.shape)"
   ]
  },
  {
   "cell_type": "code",
   "execution_count": null,
   "id": "fdf85f7a-ff51-48ca-ad4b-46f230f9fb37",
   "metadata": {},
   "outputs": [],
   "source": [
    "tag_line = [\"L1_lower\", \"L1_upper\", \"Linf_lower\", \"Linf_upper\", \"sqrt_L1_Linf\", \"L2\", \"frobenius\"]\n",
    "norms = np.stack(list(norm_dict[tag] for tag in tag_line), axis=3)\n",
    "print(norms.shape)"
   ]
  },
  {
   "cell_type": "code",
   "execution_count": null,
   "id": "c4dd0966-2f15-4631-8a17-59052dabe273",
   "metadata": {},
   "outputs": [],
   "source": [
    "tag_line = [\"L1_upper\", \"Linf_upper\", \"sqrt_L1_Linf\", \"frobenius\"]\n",
    "upper_bounds = np.stack(list(norm_dict[tag] for tag in tag_line), axis=3)\n",
    "\n",
    "minis = np.argmin(upper_bounds, axis=3)\n",
    "\n",
    "print('The best bounds are...')\n",
    "for (ind, count) in zip(*np.unique(minis, return_counts=True)):\n",
    "    print(tag_line[ind], '\\t', count, 'x')"
   ]
  },
  {
   "cell_type": "code",
   "execution_count": null,
   "id": "2de7a8da-7c8f-48d8-adf0-5f8c0b5ace69",
   "metadata": {},
   "outputs": [],
   "source": [
    "tag_line = [\"sqrt_L1_Linf\", \"L2\", \"L1\", \"Linf\", \"frobenius\"]\n",
    "norms = np.stack(list(norm_dict[tag] for tag in tag_line), axis=3)\n",
    "print(norms.shape)"
   ]
  },
  {
   "cell_type": "code",
   "execution_count": null,
   "id": "201a2460-189b-4932-913f-de62e701a3ff",
   "metadata": {},
   "outputs": [],
   "source": [
    "plot_vals_lineplot(norms[[0, -3, -1], :7], gammas5, tag_line=tag_line, ylim=\"p100\", one_plot_per='point', yscale='log')\n"
   ]
  },
  {
   "cell_type": "code",
   "execution_count": null,
   "id": "950bcb89-c081-443a-b72e-b526948ef89a",
   "metadata": {},
   "outputs": [],
   "source": [
    "plot_vals_lineplot(norms, gammas5, tag_line=tag_line, ylim=\"p99\", one_plot_per='point')"
   ]
  },
  {
   "cell_type": "markdown",
   "id": "4b8a01cd-ae3a-43c7-8116-05acd35474bf",
   "metadata": {
    "tags": []
   },
   "source": [
    "#### Calculate [generalized Determinant](https://arxiv.org/pdf/2111.14840.pdf)  and generalized Rank through Singular values"
   ]
  },
  {
   "cell_type": "code",
   "execution_count": null,
   "id": "f8148a1d-999e-4400-b886-1c1ce25943b7",
   "metadata": {},
   "outputs": [],
   "source": [
    "svals = svals__m1_to_1___cascading_gamma__gammas5\n",
    "svals = svals__m1_to_1___cascading_gamma__gammas_0_1_21_inf\n",
    "svals[svals==0] = 1\n",
    "determinants = np.product(svals, axis=3, keepdims=True)\n",
    "\n",
    "# log scale\n",
    "plot_vals_lineplot(np.log10(determinants)[:, :], gammas_0_1_21_inf, ylabel=\"Determinant of global LRP. Log10.\", ylim=(-300, 0))"
   ]
  },
  {
   "cell_type": "code",
   "execution_count": null,
   "id": "06edaa13-858c-46f8-954b-fd6e1e24b1e1",
   "metadata": {},
   "outputs": [],
   "source": [
    "cutoff = 1e-2\n",
    "\n",
    "svals = svals__m1_to_1___cascading_gamma__gammas5\n",
    "svals = svals__m1_to_1___cascading_gamma__gammas_0_1_21_inf\n",
    "generalized_rank = np.sum(svals>cutoff, axis=3, keepdims=True)\n",
    "\n",
    "# log scale\n",
    "plot_vals_lineplot(generalized_rank, gammas_0_1_21_inf, ylabel=\"Generalized rank\", title=f\"Generalized rank: #Svals > {cutoff}\", ylim=(0, svals.shape[3]*1.2))"
   ]
  },
  {
   "cell_type": "code",
   "execution_count": null,
   "id": "b1fd6c5a-f568-4f72-8dfd-d250d0e5167b",
   "metadata": {},
   "outputs": [],
   "source": [
    "for a in A:\n",
    "    print((a[:5] > 0).sum(axis=(1,2,3)))"
   ]
  },
  {
   "cell_type": "markdown",
   "id": "b54f903f-0c07-4ff1-af14-4cfedbf2705b",
   "metadata": {
    "jp-MarkdownHeadingCollapsed": true,
    "tags": []
   },
   "source": [
    "### Increasing number of layers"
   ]
  },
  {
   "cell_type": "code",
   "execution_count": null,
   "id": "7aa1ac06-3cde-4d1a-b33e-e3847c5d78fb",
   "metadata": {},
   "outputs": [],
   "source": [
    "mat_funcs = [partial(LRP_global_mat, model=model_d3, l_inp=l_inp, l_out=l_out, delete_unactivated_subnetwork=True) for l_inp, l_out in [(11, 12), (9, 12), (7, 12), (4, 12), (2, 12)]]\n",
    "LRP__increasing_num_layers_backwards__gammas5 = calc_mats_batch_functional(mat_funcs, gammas5, data[:5])"
   ]
  },
  {
   "cell_type": "code",
   "execution_count": null,
   "id": "afd8682e-e531-4cad-b725-e1584feebcfa",
   "metadata": {},
   "outputs": [],
   "source": [
    "LRP__increasing_num_layers_backwards__gammas5.shape, LRP__individual_layer__gammas5[:, :1, :1]"
   ]
  },
  {
   "cell_type": "code",
   "execution_count": null,
   "id": "c9a5eefd-baa9-4813-a9fd-2a00267d3a1e",
   "metadata": {},
   "outputs": [],
   "source": [
    "if False:\n",
    "    svals__increasing_num_layers_backwards__gammas5, _ = calc_vals_batch(LRP__increasing_num_layers_backwards__gammas5, num_vals='auto', tqdm_for=\"gamma\")\n",
    "    save_data('d3', 'svals__increasing_num_layers_backwards__gammas5', svals__increasing_num_layers_backwards__gammas5)\n",
    "else:\n",
    "    svals__increasing_num_layers_backwards__gammas5 = load_data('d3', 'svals__increasing_num_layers_backwards__gammas5')\n",
    "svals__increasing_num_layers_backwards__gammas5.shape"
   ]
  },
  {
   "cell_type": "markdown",
   "id": "a3b5e91a-48c7-41bf-b769-f08d5ec3e742",
   "metadata": {
    "tags": []
   },
   "source": [
    "#### Plot Svals"
   ]
  },
  {
   "cell_type": "code",
   "execution_count": null,
   "id": "d8136e34-7cc0-426f-9816-1c39e7b74962",
   "metadata": {},
   "outputs": [],
   "source": [
    "distribution_plot(svals__increasing_num_layers_backwards__gammas5[:, :, [0, 2, 4]], [0, 0.25, 'inf'], aggregate_over='points', cutoff=1e-8)"
   ]
  },
  {
   "cell_type": "code",
   "execution_count": null,
   "id": "787cc952-a11d-48a3-a636-8f98b1cd8d08",
   "metadata": {},
   "outputs": [],
   "source": [
    "distribution_plot(svals__increasing_num_layers_backwards__gammas5[:, :, [0, 2, 4]], [0, 0.25, 'inf'], aggregate_over='points', cutoff=1e-6, mode='violin')"
   ]
  },
  {
   "cell_type": "markdown",
   "id": "2fc0e1cc-2910-4038-a6e0-35f17e9d6a75",
   "metadata": {
    "tags": []
   },
   "source": [
    "### Individual layers"
   ]
  },
  {
   "cell_type": "code",
   "execution_count": null,
   "id": "4a462a45",
   "metadata": {},
   "outputs": [],
   "source": [
    "mat_funcs = [partial(LRP_global_mat, model=model_d3, l_inp=l_inp, l_out=l_out, delete_unactivated_subnetwork=True) for l_inp, l_out in [(2, 3), (4, 5), (7,8), (9, 10), (11, 12)]]\n",
    "LRP__individual_layer__gammas5 = calc_mats_batch_functional(mat_funcs, gammas5, data[:20].reshape((20, -1)))"
   ]
  },
  {
   "cell_type": "code",
   "execution_count": null,
   "id": "9593b781",
   "metadata": {},
   "outputs": [],
   "source": [
    "mat_funcs = [partial(LRP_global_mat, model=model_d3, l_inp=l_inp, l_out=l_out, delete_unactivated_subnetwork=True) for l_inp, l_out in [(2, 3), (4, 5), (7,8), (9, 10), (11, 12)]]\n",
    "LRP__individual_layer__gammas40 = calc_mats_batch_functional(mat_funcs, gammas40, data[:100].reshape((100, -1)), tqdm_for='point')"
   ]
  },
  {
   "cell_type": "code",
   "execution_count": null,
   "id": "24e80ba6-8482-47d3-ad22-29de1d1d9c28",
   "metadata": {},
   "outputs": [],
   "source": [
    "LRP__individual_layer__gammas5.shape, LRP__individual_layer__gammas5[:, :1, :1]"
   ]
  },
  {
   "cell_type": "code",
   "execution_count": null,
   "id": "f0d35771-c870-4f01-a7ed-375d4c2c1fd7",
   "metadata": {},
   "outputs": [],
   "source": [
    "if False:\n",
    "    svals__individual_layer__gammas5, _ = calc_vals_batch(LRP__individual_layer__gammas5, num_vals='auto', tqdm_for=\"gamma\")\n",
    "    save_data('d3', 'svals__individual_layer__gammas5', svals__individual_layer__gammas5)\n",
    "else:\n",
    "    svals__individual_layer__gammas5 = load_data('d3', 'svals__individual_layer__gammas5')\n",
    "svals__individual_layer__gammas5.shape"
   ]
  },
  {
   "cell_type": "code",
   "execution_count": 220,
   "id": "cf30a793",
   "metadata": {},
   "outputs": [
    {
     "name": "stderr",
     "output_type": "stream",
     "text": [
      "100it [00:24,  4.02it/s]\n"
     ]
    },
    {
     "data": {
      "text/plain": [
       "(5, 100, 40, 3211)"
      ]
     },
     "execution_count": 220,
     "metadata": {},
     "output_type": "execute_result"
    }
   ],
   "source": [
    "if True:\n",
    "    svals__individual_layer__gammas40, _ = calc_vals_batch(LRP__individual_layer__gammas40, num_vals='auto', tqdm_for=\"point\")\n",
    "    save_data('d3', 'svals__individual_layer__gammas40', svals__individual_layer__gammas40)\n",
    "else:\n",
    "    svals__individual_layer__gammas40 = load_data('d3', 'svals__individual_layer__gammas40')\n",
    "svals__individual_layer__gammas40.shape"
   ]
  },
  {
   "cell_type": "code",
   "execution_count": 221,
   "id": "7d65a134",
   "metadata": {},
   "outputs": [],
   "source": [
    "svals__individual_layer__gammas40 = load_data('d3', 'svals__individual_layer__gammas40')"
   ]
  },
  {
   "attachments": {},
   "cell_type": "markdown",
   "id": "fce1ae95",
   "metadata": {},
   "source": [
    "#### New: Plot one line (Spectra) per Gamma"
   ]
  },
  {
   "cell_type": "code",
   "execution_count": null,
   "id": "16b29465",
   "metadata": {},
   "outputs": [],
   "source": [
    "del plot_vals_lineplot\n",
    "from util.util_gamma_rule import plot_vals_lineplot"
   ]
  },
  {
   "cell_type": "code",
   "execution_count": null,
   "id": "f9b6d058",
   "metadata": {},
   "outputs": [],
   "source": [
    "plot_vals_lineplot(svals__individual_layer__gammas5[:, :1], gammas5\n",
    "             , spectra=True\n",
    "             , norm_s1=True\n",
    "            #  , norm_g0=True\n",
    "             , ylim='p100'\n",
    "             , legend='upper left'\n",
    "             # , colormap='seismic'\n",
    "             # , yscale='linear'\n",
    "             )"
   ]
  },
  {
   "cell_type": "code",
   "execution_count": null,
   "id": "b209e3e7",
   "metadata": {},
   "outputs": [],
   "source": [
    "i=0 # plot only gammas starting here\n",
    "plot_vals_lineplot(svals__individual_layer__gammas5[:2, :3, i:], gammas5[i:]\n",
    "             , spectra=True\n",
    "             , norm_s1=True, legend=False\n",
    "            #  , norm_g0=True\n",
    "             , ylim='p95'\n",
    "             # , colormap='seismic'\n",
    "             , yscale='log'\n",
    "             , one_plot_per='point'\n",
    "             )"
   ]
  },
  {
   "cell_type": "code",
   "execution_count": null,
   "id": "2ae765c6",
   "metadata": {},
   "outputs": [],
   "source": [
    "plot_last_sval(svals__individual_layer__gammas5, gammas5)"
   ]
  },
  {
   "cell_type": "code",
   "execution_count": null,
   "id": "b7e6667f",
   "metadata": {},
   "outputs": [],
   "source": [
    "plot_last_sval_maximum(svals__individual_layer__gammas5, gammas5)"
   ]
  },
  {
   "cell_type": "code",
   "execution_count": null,
   "id": "ccf21ae5",
   "metadata": {},
   "outputs": [],
   "source": [
    "vals = svals__individual_layer__gammas5.copy()\n",
    "vals /= vals[:, :, :, :1]\n",
    "\n",
    "# distribution_plot(vals[:, :, [0, 2, 4]], [0, 0.25, 'inf'], aggregate_over='points', cutoff=1e-6)\n",
    "distribution_plot(vals, gammas5, aggregate_over='points', cutoff=1e-6)"
   ]
  },
  {
   "cell_type": "code",
   "execution_count": null,
   "id": "6343a31f",
   "metadata": {},
   "outputs": [],
   "source": []
  },
  {
   "cell_type": "code",
   "execution_count": null,
   "id": "0d49d8db",
   "metadata": {},
   "outputs": [],
   "source": [
    "\n",
    "plot_spectra(svals__individual_layer__gammas5[4:5, :1]\n",
    "             , norm_s1=True\n",
    "             # , colormap='seismic'\n",
    "             # , yscale='linear'\n",
    "             )"
   ]
  },
  {
   "cell_type": "markdown",
   "id": "8a288ace",
   "metadata": {},
   "source": [
    "#### Absolute Svals"
   ]
  },
  {
   "cell_type": "code",
   "execution_count": null,
   "id": "53056a44",
   "metadata": {},
   "outputs": [],
   "source": [
    "plot_vals_lineplot(svals__individual_layer__gammas5[:, :1], gammas5, num_vals_total=400, ylim=\"p95\", colormap='seismic')"
   ]
  },
  {
   "cell_type": "code",
   "execution_count": null,
   "id": "6a660a7e-0c81-4df3-bb4a-5391895ccf41",
   "metadata": {},
   "outputs": [],
   "source": [
    "distribution_plot(svals__individual_layer__gammas5[:, :, [0, 2, 4]], [0, 0.25, 'inf'], aggregate_over='points', cutoff=1e-6)"
   ]
  },
  {
   "cell_type": "code",
   "execution_count": null,
   "id": "0d6bf295-8847-4a2f-901f-59c0281421aa",
   "metadata": {},
   "outputs": [],
   "source": [
    "distribution_plot(svals__individual_layer__gammas5[:, :, [0, 2, 4]], [0, 0.25, 'inf'], aggregate_over='points', cutoff=1e-6, mode='violin')"
   ]
  },
  {
   "cell_type": "markdown",
   "id": "4e68ec6c",
   "metadata": {},
   "source": [
    "#### Normalized multiplicative change"
   ]
  },
  {
   "cell_type": "code",
   "execution_count": null,
   "id": "9501905b",
   "metadata": {},
   "outputs": [],
   "source": [
    "# normalized change\n",
    "for p in range(3):\n",
    "    print('Point', p)\n",
    "    plot_multiplicative_change(svals__individual_layer__gammas5[:, p:p+1, :], gammas5, normalize=True, yscale='linear', sharey=True, num_vals_total=400)"
   ]
  },
  {
   "cell_type": "code",
   "execution_count": null,
   "id": "58f7f38e",
   "metadata": {
    "tags": []
   },
   "outputs": [],
   "source": [
    "# harmoic mean as a summary\n",
    "plot_multiplicative_change(svals__individual_layer__gammas5, gammas5, normalize=True, hmean='points', yscale='linear', sharey=True, num_vals_total=300)"
   ]
  },
  {
   "cell_type": "markdown",
   "id": "926a0faf",
   "metadata": {},
   "source": [
    "#### Absolute multiplicative change"
   ]
  },
  {
   "cell_type": "code",
   "execution_count": null,
   "id": "398d7c13",
   "metadata": {},
   "outputs": [],
   "source": [
    "# total multiplicative change\n",
    "for p in range(3):\n",
    "    print('Point', p)\n",
    "    plot_multiplicative_change(svals__individual_layer__gammas5[:, p:p+1, :], gammas5, normalize=False, yscale='linear', sharey=True, num_vals_total=400)"
   ]
  },
  {
   "cell_type": "code",
   "execution_count": null,
   "id": "1914be12",
   "metadata": {
    "tags": []
   },
   "outputs": [],
   "source": [
    "# harmoic mean as a summary\n",
    "plot_multiplicative_change(svals__individual_layer__gammas5, gammas5, normalize=False, hmean='points', yscale='linear', sharey=True, num_vals_total=400)"
   ]
  },
  {
   "cell_type": "markdown",
   "id": "fbc88d38-f030-4276-bfa4-593c150029c7",
   "metadata": {
    "tags": []
   },
   "source": [
    "#### L1, L2, Linf operator norms, and "
   ]
  },
  {
   "cell_type": "code",
   "execution_count": null,
   "id": "e56757b6-a7ed-4805-b96b-3f5372c7ea27",
   "metadata": {},
   "outputs": [],
   "source": [
    "mat_funcs = [partial(LRP_global_mat, model=model_d3, l_inp=l_inp, l_out=l_out, delete_unactivated_subnetwork='mask') for l_inp, l_out in [(2, 3), (4, 5), (7,8), (9, 10), (11, 12)]]\n",
    "LRP__individual_layer__gammas5 = calc_mats_batch_functional(mat_funcs, gammas5, data[:5].reshape((5, -1)))"
   ]
  },
  {
   "cell_type": "code",
   "execution_count": null,
   "id": "be47f2d7-25d1-44cb-b6cf-5cd8c978c42b",
   "metadata": {},
   "outputs": [],
   "source": [
    "svals__individual_layer__gammas5 = load_data('d3', 'svals__individual_layer__gammas5')"
   ]
  },
  {
   "cell_type": "code",
   "execution_count": null,
   "id": "4e9413b1",
   "metadata": {},
   "outputs": [],
   "source": [
    "for i, (a, l) in enumerate(zip(*layerwise_forward_pass(model_d3, data))):\n",
    "    print(i, \"Input:\", list(a.shape), '->', str(l).split('(')[0],\n",
    "    (f\"Weight shape: {list(l.weight.shape)}, Filter size: {l.weight[0].numel()}\") if isinstance(l, torch.nn.Conv2d) else \"\")"
   ]
  },
  {
   "cell_type": "code",
   "execution_count": null,
   "id": "22b04fab",
   "metadata": {},
   "outputs": [],
   "source": [
    "Fs = [72,200,200,144,144]"
   ]
  },
  {
   "cell_type": "code",
   "execution_count": null,
   "id": "a6de4525",
   "metadata": {},
   "outputs": [],
   "source": [
    "A, A_pos, A_neg, layers = layerwise_forward_pass(model_d3, data, pos_neg=True)\n",
    "for i in range(len(A)):\n",
    "    p, n = A_pos[i], A_neg[i]\n",
    "    if p is not None and n is not None:\n",
    "        mask = p+n>0\n",
    "        p, n = p[mask], n[mask]\n",
    "        print(i, (-n/p).mean())"
   ]
  },
  {
   "cell_type": "code",
   "execution_count": null,
   "id": "d158e5f9",
   "metadata": {},
   "outputs": [],
   "source": []
  },
  {
   "cell_type": "code",
   "execution_count": null,
   "id": "0947a011-9053-455d-a749-b2491294372e",
   "metadata": {},
   "outputs": [],
   "source": [
    "norm_dict__individual_layer__gammas5 = calc_norm_dict(LRP__individual_layer__gammas5, svals__individual_layer__gammas5[:, :5], num_filter_entries='lrp')\n",
    "norm_dict = norm_dict__individual_layer__gammas5"
   ]
  },
  {
   "cell_type": "code",
   "execution_count": null,
   "id": "90f4f337-61bc-47c4-a568-4c82277b343e",
   "metadata": {},
   "outputs": [],
   "source": [
    "tag_line = [\"L1_upper\", \"Linf_upper\", \"sqrt_L1_Linf\", \"frobenius\"]\n",
    "upper_bounds = np.stack(list(norm_dict[tag] for tag in tag_line), axis=3)\n",
    "minis = np.argmin(upper_bounds, axis=3)\n",
    "\n",
    "print('The tightest upper bounds are...')\n",
    "for (ind, count) in zip(*np.unique(minis, return_counts=True)):\n",
    "    print(tag_line[ind], '\\t', count, 'x')"
   ]
  },
  {
   "cell_type": "code",
   "execution_count": null,
   "id": "0d39965b-1db8-4f8e-9bbb-e8ea5250fe3f",
   "metadata": {},
   "outputs": [],
   "source": [
    "# plot L1, L2, Linf operator norms\n",
    "\n",
    "tag_line = [\"L2\", \"L1\", \"Linf\", \"Linf by L1\"]\n",
    "norms = np.stack(list(norm_dict[tag] for tag in tag_line), axis=3)\n",
    "print(norms.shape)"
   ]
  },
  {
   "cell_type": "code",
   "execution_count": null,
   "id": "5971680a-b356-40db-bc11-0f7543d8c0f6",
   "metadata": {},
   "outputs": [],
   "source": [
    "plot_vals_lineplot(norms[:, :1], gammas5, ylim=\"p100\", yscale='log', ylabel=\"Norms\", tag_line=tag_line)"
   ]
  },
  {
   "cell_type": "code",
   "execution_count": null,
   "id": "354742a3",
   "metadata": {},
   "outputs": [],
   "source": [
    "plot_vals_lineplot(norms[:, :1], gammas5, ylim=\"p100\", yscale='log', ylabel=\"Norms\", tag_line=tag_line)"
   ]
  },
  {
   "cell_type": "code",
   "execution_count": null,
   "id": "eaf1e45d-ab54-4d7f-8f02-daf63e20f723",
   "metadata": {},
   "outputs": [],
   "source": [
    "plot_vals_lineplot(norms[:, :], gammas5, ylim=\"p100\", yscale='log', ylabel=\"Norms\")"
   ]
  },
  {
   "cell_type": "code",
   "execution_count": null,
   "id": "8df8996a-c585-465c-9f94-064749ccad9b",
   "metadata": {},
   "outputs": [],
   "source": [
    "# how tight are bounds on l1 norm?\n",
    "\n",
    "tag_line = [\"L2\", \"sqrt_L1_Linf\", \"sqrt_L1_Linf by L1\", \"frobenius\"]\n",
    "bounds = np.stack(list(norm_dict[tag] for tag in tag_line), axis=3)\n",
    "print(bounds.shape)"
   ]
  },
  {
   "cell_type": "code",
   "execution_count": null,
   "id": "e826d54d-512d-43dc-a2a4-69f078484206",
   "metadata": {},
   "outputs": [],
   "source": [
    "plot_vals_lineplot(bounds[:, :1], gammas5, ylim=\"p100\", yscale='log', ylabel=\"Bounds\", tag_line=tag_line)"
   ]
  },
  {
   "cell_type": "code",
   "execution_count": null,
   "id": "ed8f7fac-aadc-48a0-9a20-95a8f70706c8",
   "metadata": {},
   "outputs": [],
   "source": [
    "plot_vals_lineplot(bounds[:, :], gammas5, ylim=\"p100\", yscale='log', ylabel=\"Bounds\")"
   ]
  },
  {
   "cell_type": "code",
   "execution_count": null,
   "id": "49b45488",
   "metadata": {},
   "outputs": [],
   "source": [
    "mul_difference = norm_dict[\"sqrt_L1_Linf\"] / norm_dict[\"L2\"]\n",
    "plot_vals_lineplot(mul_difference, gammas5, ylim=\"p100\", yscale='linear', ylabel=\"Bounds\")"
   ]
  },
  {
   "cell_type": "code",
   "execution_count": null,
   "id": "c0806e06",
   "metadata": {},
   "outputs": [],
   "source": [
    "mul_difference = norm_dict[\"sqrt_L1_Linf by L1\"] / norm_dict[\"L2\"]\n",
    "plot_vals_lineplot(mul_difference, gammas5, ylim=\"p100\", yscale='linear', ylabel=\"Bounds\")"
   ]
  },
  {
   "cell_type": "code",
   "execution_count": null,
   "id": "3cb690ca",
   "metadata": {},
   "outputs": [],
   "source": [
    "mul_difference[:, :, -1]"
   ]
  },
  {
   "cell_type": "code",
   "execution_count": null,
   "id": "11d1d5a4",
   "metadata": {},
   "outputs": [],
   "source": [
    "mul_difference = norm_dict[\"Linf\"] / norm_dict[\"L2\"]\n",
    "plot_vals_lineplot(mul_difference, gammas5, ylim=\"p100\", yscale='linear', ylabel=\"Bounds\")"
   ]
  },
  {
   "cell_type": "markdown",
   "id": "d51eb287-50c0-48cf-b826-1c2f6cbf4d28",
   "metadata": {
    "jp-MarkdownHeadingCollapsed": true,
    "tags": []
   },
   "source": [
    "## Sparsity of singular vectors (of Individual layers)"
   ]
  },
  {
   "cell_type": "code",
   "execution_count": null,
   "id": "17121fb5-1be5-4f2e-98cf-078e6063ac6d",
   "metadata": {},
   "outputs": [],
   "source": [
    "A, layers = layerwise_forward_pass(model_d3, data)\n",
    "A_shapes = [a.shape[1:] for a in A]\n",
    "\n",
    "for i, (a, l) in enumerate(zip(A, layers)):\n",
    "    print(i, \"Input:\", list(a.shape), '->', str(l).split('(')[0],\n",
    "    (list(l.weight.shape)) if isinstance(l, torch.nn.Conv2d) else \"\")"
   ]
  },
  {
   "cell_type": "code",
   "execution_count": null,
   "id": "5a20aa41-1c9f-4cbf-b9c9-c77d2ad793da",
   "metadata": {},
   "outputs": [],
   "source": [
    "l = 2\n",
    "A_shapes[l]"
   ]
  },
  {
   "cell_type": "markdown",
   "id": "4c9111d8-2dcc-47a4-a684-ccefa6006ca0",
   "metadata": {},
   "source": [
    "#### Layer 2 (2nd Conv)"
   ]
  },
  {
   "cell_type": "code",
   "execution_count": null,
   "id": "ade243b9-a63b-492b-a875-bad250b831c0",
   "metadata": {},
   "outputs": [],
   "source": [
    "l=2\n",
    "forw_l2 = global_conv_matrix_from_pytorch_layer(layers[l], inp_shape=A_shapes[l], out_shape=A_shapes[l+1])\n",
    "forw_l2"
   ]
  },
  {
   "cell_type": "code",
   "execution_count": null,
   "id": "34ac261b-7984-4478-9e5d-506ee9f8375a",
   "metadata": {},
   "outputs": [],
   "source": [
    "n_points=20"
   ]
  },
  {
   "cell_type": "code",
   "execution_count": null,
   "id": "5162eb37-6cbb-417d-8df9-292b525c5168",
   "metadata": {},
   "outputs": [],
   "source": [
    "LRP__l2__gammas5 = calc_mats_batch([forw_l2], A[l][:n_points].reshape((n_points, -1)).detach(), gammas=gammas5, mode='back clip')\n",
    "LRP__l2__gammas5.shape"
   ]
  },
  {
   "cell_type": "code",
   "execution_count": null,
   "id": "958285bb-76d0-47b5-bbe0-b8d2cf1d4f39",
   "metadata": {},
   "outputs": [],
   "source": [
    "res = calc_vals_batch(LRP__l2__gammas5[:, :3], num_vals=500, tqdm_for='point', return_vecs=True)"
   ]
  },
  {
   "cell_type": "code",
   "execution_count": null,
   "id": "2efbc645-0364-4810-9905-5cc80bede241",
   "metadata": {},
   "outputs": [],
   "source": [
    "if False:\n",
    "    svals__l2__gammas5, svecs__l2__gammas5 = calc_vals_batch(LRP__l2__gammas5[:, :20], num_vals='auto', tqdm_for='point', return_vecs=True)\n",
    "    save_data('d3', 'svals__l2__gammas5', svals__l2__gammas5)\n",
    "    save_data('d3', 'svecs__l2__gammas5', svecs__l2__gammas5)\n",
    "else:\n",
    "    svals__l2__gammas5 = load_data('d3', 'svals__l2__gammas5')\n",
    "    svecs__l2__gammas5 = load_data('d3', 'svecs__l2__gammas5')\n",
    "    \n",
    "svals__l2__gammas5.shape, svecs__l2__gammas5.shape"
   ]
  },
  {
   "cell_type": "code",
   "execution_count": null,
   "id": "874b6891-82fd-41ff-b368-7d130867aae2",
   "metadata": {},
   "outputs": [],
   "source": [
    "if False:\n",
    "    svals__l2__gammas_0_1_21_inf, svecs__l2__gammas_0_1_21_inf = calc_vals_batch(LRP__l2__gammas5[:, :20], num_vals='auto', tqdm_for='point', return_vecs=True)\n",
    "    save_data('d3', 'svals__l2__gammas_0_1_21_inf', svals__l2__gammas_0_1_21_inf)\n",
    "    save_data('d3', 'svecs__l2__gammas_0_1_21_inf', svecs__l2__gammas_0_1_21_inf)\n",
    "else:\n",
    "    svals__l2__gammas_0_1_21_inf = load_data('d3', 'svals__l2__gammas_0_1_21_inf')\n",
    "    svecs__l2__gammas_0_1_21_inf = load_data('d3', 'svecs__l2__gammas_0_1_21_inf')\n",
    "    \n",
    "svals__l2__gammas_0_1_21_inf.shape, svecs__l2__gammas_0_1_21_inf.shape"
   ]
  },
  {
   "cell_type": "code",
   "execution_count": null,
   "id": "d671a505-5b48-47f0-a495-964844438907",
   "metadata": {},
   "outputs": [],
   "source": [
    "svec_sparsity = lambda svecs, cutoff=1e-6: (np.abs(svecs)>cutoff * 1.).mean(axis=4)\n",
    "\n",
    "svec_sparsity__l2__gammas5 = svec_sparsity(svecs__l2__gammas5)\n",
    "svec_sparsity__l2__gammas_0_1_21_inf = svec_sparsity(svecs__l2__gammas_0_1_21_inf)"
   ]
  },
  {
   "cell_type": "code",
   "execution_count": null,
   "id": "5740ad74-a334-4cd8-ab19-808302e2ed7c",
   "metadata": {},
   "outputs": [],
   "source": [
    "# svals\n",
    "plot_vals_lineplot(svals__l2__gammas_0_1_21_inf[:, :3], gammas_0_1_21_inf, one_plot_per='point', ylabel=\"Top 300 Svals\", ylim=40)\n"
   ]
  },
  {
   "cell_type": "code",
   "execution_count": null,
   "id": "2da3401b-3d97-4d6f-a8ca-4857331de8ef",
   "metadata": {},
   "outputs": [],
   "source": [
    "# svals\n",
    "plot_vals_lineplot(svals__l2__gammas_0_1_21_inf[:, :3], gammas_0_1_21_inf, one_plot_per='point', ylabel=\"Top 300 Svals (Log)\", yscale='log', ylim=\"p99\")\n"
   ]
  },
  {
   "cell_type": "code",
   "execution_count": null,
   "id": "75f3eb0b-9621-477d-b126-3db4437cc35a",
   "metadata": {},
   "outputs": [],
   "source": [
    "# All Svecs get dense with gamma -> inf\n",
    "plot_vals_lineplot(svec_sparsity__l2__gammas_0_1_21_inf[:, :3], gammas_0_1_21_inf, one_plot_per='point', ylabel=\"Top 300 Svec sparsity\", ylim=1)\n"
   ]
  },
  {
   "cell_type": "code",
   "execution_count": null,
   "id": "fca9ecc0-8c0a-42e7-94f7-3a6ac41603aa",
   "metadata": {},
   "outputs": [],
   "source": [
    "# all svecs sparsity, more points\n",
    "plot_vals_lineplot(svec_sparsity__l2__gammas_0_1_21_inf[:, :8, :, :50], gammas_0_1_21_inf, one_plot_per='point', ylabel=\"Top 50 Svec sparsity\", ylim=1)\n"
   ]
  },
  {
   "cell_type": "code",
   "execution_count": null,
   "id": "178d6982-2bd7-4681-a121-520d21d1cb98",
   "metadata": {},
   "outputs": [],
   "source": [
    "# top svecs: get dense slower\n",
    "plot_vals_lineplot(svec_sparsity__l2__gammas_0_1_21_inf[:, :3, :, :20], gammas_0_1_21_inf, one_plot_per='point', ylabel=\"Svec sparsity\", ylim=1)"
   ]
  },
  {
   "cell_type": "code",
   "execution_count": null,
   "id": "5c2d5a19-a3d7-40c0-9d73-d75451ba7a4c",
   "metadata": {},
   "outputs": [],
   "source": [
    "# non-top svecs: get dense fast, or are dense from the beginning.\n",
    "plot_vals_lineplot(svec_sparsity__l2__gammas_0_1_21_inf[:, :3, :, 30:], gammas_0_1_21_inf, one_plot_per='point', ylabel=\"Svec sparsity\", ylim=1)"
   ]
  },
  {
   "cell_type": "markdown",
   "id": "beb19944-ec0a-4e58-bc00-2a94dba0f27c",
   "metadata": {
    "jp-MarkdownHeadingCollapsed": true,
    "tags": []
   },
   "source": [
    "## Plot where the entries of Top singular vectors lie. \n",
    "For that, take absolute, sum over channels/filters. Are they concentrated in certain xy positions?"
   ]
  },
  {
   "cell_type": "code",
   "execution_count": null,
   "id": "5e61a47c-27a0-4443-ac21-ae470b636d9d",
   "metadata": {},
   "outputs": [],
   "source": [
    "A[2].shape[1:]"
   ]
  },
  {
   "cell_type": "code",
   "execution_count": null,
   "id": "d1248d65-78f4-42d5-a75a-4405841531b8",
   "metadata": {},
   "outputs": [],
   "source": [
    "np.array(gammas_0_1_21_inf)[[0,1,2,4,8,16,21]]"
   ]
  },
  {
   "cell_type": "code",
   "execution_count": null,
   "id": "de75d36f-a2b5-4a85-9758-df3533f23ff7",
   "metadata": {},
   "outputs": [],
   "source": [
    "vecs_per_weight.shape, svecs__l2__gammas_0_1_21_inf[:1, :1, :, np.array([0,2])].shape, i_gammas, i_vecs"
   ]
  },
  {
   "cell_type": "code",
   "execution_count": null,
   "id": "c76aa05f-4d9c-42ad-9e6a-454ea2bf0f96",
   "metadata": {
    "tags": []
   },
   "outputs": [],
   "source": [
    "i_vecs = [0,1,2,3,4,5, 50]\n",
    "i_vecs = np.arange(20)\n",
    "\n",
    "# small dataset\n",
    "vals_per_weight, vecs_per_weight = svals__l2__gammas5, svecs__l2__gammas5\n",
    "gammas = gammas5\n",
    "\n",
    "# big dataset\n",
    "i_gammas = [0,1,2,4,8,16,21]\n",
    "vals_per_weight, vecs_per_weight = svals__l2__gammas_0_1_21_inf, svecs__l2__gammas_0_1_21_inf\n",
    "gammas = np.array(gammas_0_1_21_inf)\n",
    "vals_per_weight, vecs_per_weight, gammas = vals_per_weight[:1, :1, i_gammas][:, :, :, i_vecs], vecs_per_weight[:1, :1, i_gammas][:, :, :, i_vecs], gammas[i_gammas]\n",
    "\n",
    "\n",
    "img_shape = (8, 28, 28) # in 2nd layer\n",
    "\n",
    "for vals_per_point, vecs_per_point in zip(vals_per_weight, vecs_per_weight):\n",
    "    for vals_per_gamma, vecs_per_gamma in zip(vals_per_point, vecs_per_point):\n",
    "        \n",
    "        nrow, ncol = len(i_vecs), len(vals_per_gamma)\n",
    "        fig, axs = plt.subplots(ncol, nrow, figsize=(nrow*15, ncol*15))\n",
    "        fig.tight_layout(pad=0)\n",
    "        axs = np.array(axs).T\n",
    "        \n",
    "        for vals, vecs, ax_per_vec, gamma in zip(vals_per_gamma, vecs_per_gamma, axs, gammas):\n",
    "            vecs_reshaped = np.abs(vecs.reshape((len(i_vecs), *img_shape))).sum(axis=1)\n",
    "\n",
    "            for i_vec, val, vec, ax in zip(i_vecs, vals, vecs_reshaped, ax_per_vec):\n",
    "                ax.imshow(vec)\n",
    "        \n",
    "                ax.set_box_aspect(1)\n",
    "                ax.set_xticks([])\n",
    "                ax.set_yticks([])\n",
    "                # ax.set_title(f\"gamma = {gamma}, \")\n",
    "        \n",
    "        \n",
    "        plt.show()"
   ]
  },
  {
   "cell_type": "code",
   "execution_count": null,
   "id": "7816c092-521c-4d58-a9e5-339bcde832bb",
   "metadata": {},
   "outputs": [],
   "source": [
    "i_vecs = [0,1,2,3,4,5, 50]\n",
    "i_vecs = np.arange(40)\n",
    "\n",
    "# small dataset\n",
    "vals_per_weight, vecs_per_weight = svals__l2__gammas5, svecs__l2__gammas5\n",
    "gammas = gammas5\n",
    "\n",
    "# big dataset\n",
    "i_gammas = [0,1,2,4,8,16,21]\n",
    "vals_per_weight, vecs_per_weight = svals__l2__gammas_0_1_21_inf, svecs__l2__gammas_0_1_21_inf\n",
    "gammas = np.array(gammas_0_1_21_inf)\n",
    "vals_per_weight, vecs_per_weight, gammas = vals_per_weight[:1, :1, i_gammas][:, :, :, i_vecs], vecs_per_weight[:1, :1, i_gammas][:, :, :, i_vecs], gammas[i_gammas]\n",
    "\n",
    "\n",
    "img_shape = (8, 28, 28) # in 2nd layer\n",
    "\n",
    "for vals_per_point, vecs_per_point in zip(vals_per_weight, vecs_per_weight):\n",
    "    for vals_per_gamma, vecs_per_gamma in zip(vals_per_point, vecs_per_point):\n",
    "        \n",
    "        nrow, ncol = len(i_vecs), len(vals_per_gamma)\n",
    "        fig, axs = plt.subplots(nrow, ncol, figsize=(nrow*15, ncol*15))\n",
    "        fig.tight_layout(pad=0)\n",
    "        axs = np.array(axs).T\n",
    "        \n",
    "        for vals, vecs, ax_per_vec, gamma in zip(vals_per_gamma, vecs_per_gamma, axs, gammas):\n",
    "            vecs_reshaped = np.abs(vecs.reshape((len(i_vecs), *img_shape))).sum(axis=1)\n",
    "\n",
    "            for i_vec, val, vec, ax in zip(i_vecs, vals, vecs_reshaped, ax_per_vec):\n",
    "                ax.imshow(vec)\n",
    "        \n",
    "                ax.set_box_aspect(1)\n",
    "                ax.set_xticks([])\n",
    "                ax.set_yticks([])\n",
    "                # ax.set_title(f\"gamma = {gamma}, \")\n",
    "        \n",
    "        \n",
    "        plt.show()"
   ]
  },
  {
   "cell_type": "markdown",
   "id": "16b49c2d-a811-4a02-90c5-b4a01f88650f",
   "metadata": {
    "jp-MarkdownHeadingCollapsed": true,
    "tags": []
   },
   "source": [
    "## Plot ratio of first and second Sval"
   ]
  },
  {
   "cell_type": "code",
   "execution_count": null,
   "id": "5efdaed1-14e1-48de-9e82-dec9e15588fb",
   "metadata": {},
   "outputs": [],
   "source": [
    "plot_vals_lineplot(vals_per_weight, gammas, one_plot_per='point', yscale='log', ylim=\"p99.99\")"
   ]
  },
  {
   "cell_type": "code",
   "execution_count": null,
   "id": "87b4dff7-4445-4840-a735-0c0e4e028a0c",
   "metadata": {},
   "outputs": [],
   "source": [
    "vals_per_weight = svals__l2__gammas5\n",
    "gammas = gammas5\n",
    "\n",
    "vals_per_weight = svals__l2__gammas_0_1_21_inf\n",
    "gammas = gammas_0_1_21_inf\n",
    "\n",
    "ratio_two_largest_svals = vals_per_weight[:, :, :, 0] / vals_per_weight[:, :, :, 1]\n",
    "plot_vals_lineplot(ratio_two_largest_svals[:, :, :, None], gammas, ylim=\"p95\")"
   ]
  },
  {
   "cell_type": "markdown",
   "id": "2311e0e8-1e72-493e-97e3-38d31a8c074b",
   "metadata": {
    "jp-MarkdownHeadingCollapsed": true,
    "tags": []
   },
   "source": [
    "## Plot correlation between Svec sparsity and Sval."
   ]
  },
  {
   "cell_type": "code",
   "execution_count": null,
   "id": "0cabd5d2-7d89-4448-8488-17c5aa37c3ec",
   "metadata": {},
   "outputs": [],
   "source": [
    "svals__l2__gammas5.shape, svec_sparsity__l2__gammas5.shape"
   ]
  },
  {
   "cell_type": "code",
   "execution_count": null,
   "id": "d766526d-4f10-4db1-9520-d4c0bd6e2cda",
   "metadata": {},
   "outputs": [],
   "source": [
    "vals_per_weight, spars_per_weight = svals__l2__gammas5, svec_sparsity__l2__gammas5\n",
    "gammas = gammas5\n",
    "\n",
    "assert vals_per_weight.shape == spars_per_weight.shape\n",
    "\n",
    "for vals_per_point, spars_per_point in zip(vals_per_weight, spars_per_weight):\n",
    "    for vals_per_gamma, spars_per_gamma in zip(vals_per_point, spars_per_point):\n",
    "        fig, axs = plt.subplots(1, len(vals_per_gamma), figsize=(20, 4), sharex=True, sharey=True)\n",
    "        \n",
    "        for vals, spars, ax, gamma in zip(vals_per_gamma, spars_per_gamma, axs, gammas):\n",
    "            ax.set_box_aspect(1)\n",
    "            ax.set_xscale('log')\n",
    "            ax.set_title(f\"gamma = {gamma}\")\n",
    "            ax.scatter(vals, spars)\n",
    "                \n",
    "        plt.show()"
   ]
  },
  {
   "cell_type": "markdown",
   "id": "feacc79b-b0f4-4ab4-b526-2ce25d5b22f3",
   "metadata": {
    "jp-MarkdownHeadingCollapsed": true,
    "tags": []
   },
   "source": [
    "## Similarity between singular vectors of similar datapoints\n",
    "\n",
    "Calculate the similarity between the svecs of a pair of points. \n",
    "- Point 1 is a datapoint from the test set (or its following hidden activations).\n",
    "- Point 2 is a slightly perturbed version of Point 1."
   ]
  },
  {
   "cell_type": "code",
   "execution_count": null,
   "id": "6eb02268-4f64-4b38-b5a7-ce41c5af2d61",
   "metadata": {},
   "outputs": [],
   "source": [
    "def perturb_point(point, k=1, mode='normal', var=.5, clip=[0,1], activated_subnetwork=True, seed=1):\n",
    "    torch.manual_seed(seed)\n",
    "    \n",
    "    if 'normal' in mode:\n",
    "        perturbation = torch.normal(0, var, size=(k, *point.shape))\n",
    "        \n",
    "    if activated_subnetwork:\n",
    "        perturbation *= point[None] > 0\n",
    "       \n",
    "    point_perturbed = point[None] + perturbation\n",
    "    \n",
    "    if clip is not None:\n",
    "        if clip[0] is not None:   point_perturbed = point_perturbed.clip(min=clip[0])\n",
    "        if clip[1] is not None:   point_perturbed = point_perturbed.clip(max=clip[1])\n",
    "        \n",
    "    return point_perturbed"
   ]
  },
  {
   "cell_type": "markdown",
   "id": "cdcb7c0e-ab16-460e-969d-b36d2a97dc61",
   "metadata": {},
   "source": [
    "### Layer 2 (perturb layer 0 input)"
   ]
  },
  {
   "cell_type": "code",
   "execution_count": null,
   "id": "73d24612-72a5-4ca0-8c97-2706f850ff4b",
   "metadata": {},
   "outputs": [],
   "source": [
    "l=2\n",
    "forw_l2 = global_conv_matrix_from_pytorch_layer(layers[l], inp_shape=A_shapes[l], out_shape=A_shapes[l+1])\n",
    "forw_l2"
   ]
  },
  {
   "cell_type": "code",
   "execution_count": null,
   "id": "1cb7dff8-c6bc-40f7-9e2f-140597fa73e0",
   "metadata": {},
   "outputs": [],
   "source": [
    "point = A[0][0]\n",
    "points_perturbed = torch.vstack((point[None], perturb_point(point, k=4, activated_subnetwork=False, var=.1)))\n",
    "points_perturbed.shape"
   ]
  },
  {
   "cell_type": "markdown",
   "id": "40fa62ea",
   "metadata": {},
   "source": [
    "#### Visualize Perturbed points"
   ]
  },
  {
   "cell_type": "code",
   "execution_count": null,
   "id": "b7c3e77d",
   "metadata": {},
   "outputs": [],
   "source": [
    "plt.imshow(points_perturbed.transpose(0, 2)[:, 0].reshape((28, -1)))"
   ]
  },
  {
   "cell_type": "code",
   "execution_count": null,
   "id": "4c20cdec",
   "metadata": {},
   "outputs": [],
   "source": [
    "#### Playground"
   ]
  },
  {
   "cell_type": "code",
   "execution_count": null,
   "id": "226605b7-49a2-408e-9271-062b76c7d3ad",
   "metadata": {},
   "outputs": [],
   "source": [
    "mat_funcs = [partial(LRP_global_mat, model=model_d3, l_inp=2, l_out=3)]\n",
    "LRP_mats = calc_mats_batch_functional(mat_funcs, gammas5, points_perturbed.view((len(points_perturbed), -1)), tqdm_for='point')"
   ]
  },
  {
   "cell_type": "code",
   "execution_count": null,
   "id": "84853742-b7f4-4b5e-9a17-4ca7d1f63c0f",
   "metadata": {},
   "outputs": [],
   "source": [
    "n_svecs = 100\n",
    "svals, svecs = calc_vals_batch(LRP_mats, num_vals=n_svecs, tqdm_for='point', return_vecs=True)\n",
    "\n",
    "svals.shape, svecs.shape"
   ]
  },
  {
   "cell_type": "code",
   "execution_count": null,
   "id": "f6d09ebb-11fe-4311-8c52-8094ed9d86a2",
   "metadata": {},
   "outputs": [],
   "source": [
    "for i in range(1,5): svec_similarity(*svecs[0, [0,i]])"
   ]
  },
  {
   "cell_type": "code",
   "execution_count": null,
   "id": "85848bfe",
   "metadata": {},
   "outputs": [],
   "source": [
    "svec_sparsity = lambda svecs, cutoff=1e-6: (np.abs(svecs)>cutoff * 1.).mean(axis=4)\n",
    "\n",
    "svec_sparsity__l2__perturbed_points__gammas5 = svec_sparsity(svecs)\n",
    "# svals\n",
    "plot_vals_lineplot(svec_sparsity__l2__perturbed_points__gammas5, gammas5, one_plot_per='point', ylabel=\"Top 50 Svals\", ylim=1)"
   ]
  },
  {
   "cell_type": "markdown",
   "id": "ef33dd56",
   "metadata": {},
   "source": [
    "#### Correctly labeled"
   ]
  },
  {
   "cell_type": "code",
   "execution_count": null,
   "id": "232f9cff",
   "metadata": {},
   "outputs": [],
   "source": [
    "mat_funcs = [partial(LRP_global_mat, model=model_d3, l_inp=2, l_out=3)]\n",
    "LRP__l2__perturbed_points_var05__gammas5 = calc_mats_batch_functional(mat_funcs, gammas5, points_perturbed.view((len(points_perturbed), -1)), tqdm_for='point')"
   ]
  },
  {
   "cell_type": "code",
   "execution_count": null,
   "id": "a194c13c",
   "metadata": {},
   "outputs": [],
   "source": [
    "n_svecs = 100\n",
    "if False:\n",
    "    svals__l2__perturbed_points_var05__gammas5, svecs__l2__perturbed_points_var05__gammas5 = calc_vals_batch(LRP__l2__perturbed_points_var05__gammas5, num_vals=n_svecs, tqdm_for='point', return_vecs=True)\n",
    "    save_data('d3', 'svals__l2__perturbed_points_var05__gammas5', svals__l2__perturbed_points_var05__gammas5)\n",
    "    save_data('d3', 'svecs__l2__perturbed_points_var05__gammas5', svecs__l2__perturbed_points_var05__gammas5)\n",
    "else:\n",
    "    svals__l2__perturbed_points_var05__gammas5 = load_data('d3', 'svals__l2__perturbed_points_var05__gammas5')\n",
    "    svecs__l2__perturbed_points_var05__gammas5 = load_data('d3', 'svecs__l2__perturbed_points_var05__gammas5')\n",
    "    \n",
    "svals__l2__perturbed_points_var05__gammas5.shape, svecs__l2__perturbed_points_var05__gammas5.shape"
   ]
  },
  {
   "cell_type": "code",
   "execution_count": null,
   "id": "dbe63fbc",
   "metadata": {},
   "outputs": [],
   "source": [
    "n_svecs = 50\n",
    "if False:\n",
    "    svals__l2__perturbed_points_var01__gammas5, svecs__l2__perturbed_points_var01__gammas5 = calc_vals_batch(LRP__l2__perturbed_points_var01__gammas5, num_vals=n_svecs, tqdm_for='point', return_vecs=True)\n",
    "    save_data('d3', 'svals__l2__perturbed_points_var01__gammas5', svals__l2__perturbed_points_var01__gammas5)\n",
    "    save_data('d3', 'svecs__l2__perturbed_points_var01__gammas5', svecs__l2__perturbed_points_var01__gammas5)\n",
    "else:\n",
    "    svals__l2__perturbed_points_var01__gammas5 = load_data('d3', 'svals__l2__perturbed_points_var01__gammas5')\n",
    "    svecs__l2__perturbed_points_var01__gammas5 = load_data('d3', 'svecs__l2__perturbed_points_var01__gammas5')\n",
    "    \n",
    "svals__l2__perturbed_points_var01__gammas5.shape, svecs__l2__perturbed_points_var01__gammas5.shape"
   ]
  },
  {
   "cell_type": "code",
   "execution_count": null,
   "id": "c2916d37",
   "metadata": {},
   "outputs": [],
   "source": [
    "def svec_similarity(p1_svecs, p2_svecs):\n",
    "    print(p1_svecs.shape)\n",
    "    cosine_sim = np.einsum('ijx,ikx->ijk', p1_svecs, p2_svecs)   # compute cosine similarity between every svec in p1 to every svec in p2\n",
    "    cosine_sim = np.abs(cosine_sim)                              # take absolute\n",
    "    print(cosine_sim.max(axis=(1,2)))\n",
    "    l = [cosine_sim[0]]\n",
    "    \n",
    "    for p in cosine_sim[1:]: l += [np.full((n_svecs, 1), 2), p]\n",
    "\n",
    "    plt.figure(figsize=(15, 10))\n",
    "    plt.imshow(np.hstack(l), vmin=0, vmax=1)\n",
    "\n",
    "    plt.ylabel('Svecs of unperturbed point (Decreasing Svals from Top to Down)')\n",
    "    plt.xlabel('Svecs of perturbed point (Decreasing Svals from Left to Right)')\n",
    "    plt.show()"
   ]
  },
  {
   "cell_type": "markdown",
   "id": "b1090037",
   "metadata": {},
   "source": [
    "#### Variance 0.1"
   ]
  },
  {
   "cell_type": "code",
   "execution_count": null,
   "id": "b8d3587a",
   "metadata": {},
   "outputs": [],
   "source": [
    "for i in range(1,5): svec_similarity(*svals__l2__perturbed_points_var01__gammas5[0, [0,i]])"
   ]
  },
  {
   "cell_type": "code",
   "execution_count": null,
   "id": "ec31bcd1",
   "metadata": {},
   "outputs": [],
   "source": [
    "svec_sparsity = lambda svecs, cutoff=1e-6: (np.abs(svecs)>cutoff * 1.).mean(axis=4)\n",
    "\n",
    "svec_sparsity__l2__perturbed_points__gammas5 = svec_sparsity(svals__l2__perturbed_points_var01__gammas5)\n",
    "# svals\n",
    "plot_vals_lineplot(svec_sparsity__l2__perturbed_points__gammas5, gammas5, one_plot_per='point', ylabel=\"Top 50 Svals\", ylim=1)"
   ]
  },
  {
   "cell_type": "markdown",
   "id": "de56c3c8",
   "metadata": {},
   "source": [
    "#### Variance 0.5"
   ]
  },
  {
   "cell_type": "code",
   "execution_count": null,
   "id": "5b0ace66",
   "metadata": {},
   "outputs": [],
   "source": [
    "for i in range(1,5): svec_similarity(*svecs__l2__perturbed_points_var05__gammas5[0, [0,i]])"
   ]
  },
  {
   "cell_type": "code",
   "execution_count": null,
   "id": "5a6c0ab0",
   "metadata": {},
   "outputs": [],
   "source": [
    "svec_sparsity = lambda svecs, cutoff=1e-6: (np.abs(svecs)>cutoff * 1.).mean(axis=4)\n",
    "\n",
    "svec_sparsity__l2__perturbed_points__gammas5 = svec_sparsity(svecs__l2__perturbed_points_var05__gammas5)\n",
    "# svals\n",
    "plot_vals_lineplot(svec_sparsity__l2__perturbed_points__gammas5, gammas5, one_plot_per='point', ylabel=\"Top 50 Svals\", ylim=1)"
   ]
  },
  {
   "cell_type": "markdown",
   "id": "24828ba8-a692-486e-9ca3-1eca9929c368",
   "metadata": {
    "tags": []
   },
   "source": [
    "### Layer 2 (perturb hidden activations directly)\n",
    "The issue in perturbing hidden activations directly with Gaussian noise might be that it changes their characteristics unduly (even if clipping them properly etc.).\n",
    "In advanced layers of the NN, the hidden activations have already successfully condensed tothe *Signal*, containing less of the *Distractor*. (Ref Alber PatternNet paper)\n",
    "\n",
    "Some evidence in that direction is that the Singular Vectors of an LRP matrix with [hidden_activation + noise] as a referece point are less sparse than the Singular Vectors of an usual LRP matrix with just [hidden_activation] as a referece point."
   ]
  },
  {
   "cell_type": "code",
   "execution_count": null,
   "id": "c1330ca2-c8de-4627-9725-e764e39b8bb7",
   "metadata": {},
   "outputs": [],
   "source": [
    "l=2\n",
    "forw_l2 = global_conv_matrix_from_pytorch_layer(layers[l], inp_shape=A_shapes[l], out_shape=A_shapes[l+1])\n",
    "forw_l2"
   ]
  },
  {
   "cell_type": "code",
   "execution_count": null,
   "id": "bc0a67a3-da08-40a6-b52d-81dd985f3040",
   "metadata": {},
   "outputs": [],
   "source": [
    "point = A[l][0]\n",
    "points_perturbed = torch.vstack((point[None], get_perturbations(point, k=4)))\n",
    "points_perturbed.shape"
   ]
  },
  {
   "cell_type": "code",
   "execution_count": null,
   "id": "2c2865ac-9c81-4d83-adba-355050c1cfbf",
   "metadata": {},
   "outputs": [],
   "source": [
    "points_perturbed.sum()"
   ]
  },
  {
   "cell_type": "code",
   "execution_count": null,
   "id": "6d54116d-0d0d-4263-9c58-1a19fd9a3c50",
   "metadata": {},
   "outputs": [],
   "source": [
    "((points_perturbed.reshape((5, -1)) != 0)*1.).mean(axis=1), ((points_perturbed.reshape((5, -1)) < 0)*1.).mean(axis=1)"
   ]
  },
  {
   "cell_type": "code",
   "execution_count": null,
   "id": "e74be89c-68f4-4f6a-bffa-ec14287d4b8a",
   "metadata": {},
   "outputs": [],
   "source": [
    "LRP__l2__perturbed_activations__gammas5 = calc_mats_batch([forw_l2], points.detach().reshape(len(points), -1), gammas=gammas5, mode='back clip')\n",
    "LRP__l2__perturbed_activations__gammas5.shape"
   ]
  },
  {
   "cell_type": "code",
   "execution_count": null,
   "id": "9353e94d-67b1-4694-a653-bad0b461085f",
   "metadata": {},
   "outputs": [],
   "source": [
    "n_svecs = 50"
   ]
  },
  {
   "cell_type": "code",
   "execution_count": null,
   "id": "6bd4debd-4c2e-4124-a392-af2607f1539b",
   "metadata": {},
   "outputs": [],
   "source": [
    "if False:\n",
    "    svals__l2__perturbed_activations__gammas5, svecs__l2__perturbed_activations__gammas5 = calc_vals_batch(LRP__l2__perturbed_activations__gammas5, num_vals=n_svecs, tqdm_for='point', return_vecs=True)\n",
    "    save_data('d3', 'svals__l2__perturbed_activations__gammas5', svals__l2__perturbed_activations__gammas5)\n",
    "    save_data('d3', 'svecs__l2__perturbed_activations__gammas5', svecs__l2__perturbed_activations__gammas5)\n",
    "else:\n",
    "    svals__l2__perturbed_activations__gammas5 = load_data('d3', 'svals__l2__perturbed_activations__gammas5')\n",
    "    svecs__l2__perturbed_activations__gammas5 = load_data('d3', 'svecs__l2__perturbed_activations__gammas5')\n",
    "    \n",
    "svals__l2__perturbed_activations__gammas5.shape, svecs__l2__perturbed_activations__gammas5.shape"
   ]
  },
  {
   "cell_type": "code",
   "execution_count": null,
   "id": "6b288b1e-ac76-4fa2-bde9-68a955fabbb6",
   "metadata": {},
   "outputs": [],
   "source": [
    "\n",
    "p1, p2 = svecs__l2__perturbed_activations__gammas5[0, :2, :, :n_svecs, :]\n",
    "p1.shape"
   ]
  },
  {
   "cell_type": "code",
   "execution_count": null,
   "id": "4e0e9dfe-65f4-4bcd-a944-73e78c2d89ec",
   "metadata": {},
   "outputs": [],
   "source": [
    "cosine_sim = np.einsum('ijx,ikx->ijk', p1, p2)   # compute cosine similarity between every svec in p1 to every svec in p2\n",
    "cosine_sim = np.abs(cosine_sim)                  # take absolute\n",
    "cosine_sim.shape"
   ]
  },
  {
   "cell_type": "code",
   "execution_count": null,
   "id": "0fc8b24e",
   "metadata": {},
   "outputs": [],
   "source": [
    "cosine_sim.max(axis=(1,2))"
   ]
  },
  {
   "cell_type": "code",
   "execution_count": null,
   "id": "a99d19d5-f85a-4e03-a47d-fd3e5daada76",
   "metadata": {},
   "outputs": [],
   "source": [
    "cosine_sim.max(axis=(1,2))"
   ]
  },
  {
   "cell_type": "code",
   "execution_count": null,
   "id": "ae15f4d1-096f-4023-913f-7c16a009357d",
   "metadata": {},
   "outputs": [],
   "source": [
    "plt.imshow(cosine_sim.transpose((1,0,2)).reshape((n_svecs, -1)), vmin=0, vmax=cosine_sim.max())"
   ]
  },
  {
   "cell_type": "code",
   "execution_count": null,
   "id": "c827b5b9-dd6a-492c-8f62-c40e330e5f43",
   "metadata": {},
   "outputs": [],
   "source": [
    "plt.imshow(cosine_sim.transpose((1,0,2)).reshape((n_svecs, -1)), vmin=0, vmax=cosine_sim.max())"
   ]
  },
  {
   "cell_type": "code",
   "execution_count": null,
   "id": "a3cd9419-5f6a-44c9-8bb8-5a40f220a4a6",
   "metadata": {},
   "outputs": [],
   "source": [
    "maxi = cosine_sim.max()\n",
    "l = [cosine_sim[0]]\n",
    "for p in cosine_sim[1:]: l += [np.full((n_svecs, 1), maxi), p]\n",
    "\n",
    "plt.figure(figsize=(15, 10))\n",
    "plt.imshow(np.hstack(l), vmin=0, vmax=maxi)"
   ]
  },
  {
   "cell_type": "code",
   "execution_count": null,
   "id": "44d125e0-1b27-43de-aa5c-607d1acda2f0",
   "metadata": {},
   "outputs": [],
   "source": [
    "i_gamma = -1\n",
    "\n",
    "sims = cosine_sim[i_gamma]\n",
    "maxi= sims.max()\n",
    "\n",
    "for i_p1_svecs in range(n_svecs):\n",
    "    plt.imshow(sims, vmin=0, vmax=maxi)\n",
    "    plt.show()\n",
    "    "
   ]
  }
 ],
 "metadata": {
  "kernelspec": {
   "display_name": "msc",
   "language": "python",
   "name": "python3"
  },
  "language_info": {
   "codemirror_mode": {
    "name": "ipython",
    "version": 3
   },
   "file_extension": ".py",
   "mimetype": "text/x-python",
   "name": "python",
   "nbconvert_exporter": "python",
   "pygments_lexer": "ipython3",
   "version": "3.10.9"
  },
  "vscode": {
   "interpreter": {
    "hash": "f3ff92f223ffb6d6ea1150a475644bca5c15982bf2ffdfebd05287032d5fb538"
   }
  }
 },
 "nbformat": 4,
 "nbformat_minor": 5
}
