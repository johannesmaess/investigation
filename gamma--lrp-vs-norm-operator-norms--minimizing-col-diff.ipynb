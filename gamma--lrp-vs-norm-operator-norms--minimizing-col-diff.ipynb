{
 "cells": [
  {
   "cell_type": "code",
   "execution_count": 2,
   "id": "97626eca-2811-4aae-b2ab-92c50361814a",
   "metadata": {},
   "outputs": [
    {
     "name": "stdout",
     "output_type": "stream",
     "text": [
      "no display found. Using non-interactive Agg backend\n"
     ]
    }
   ],
   "source": [
    "%load_ext autoreload\n",
    "%autoreload 2\n",
    "\n",
    "# import shap\n",
    "import numpy as np\n",
    "import torch\n",
    "import torch.nn.functional as F\n",
    "import matplotlib as mpl\n",
    "import matplotlib.pyplot as plt\n",
    "\n",
    "from tqdm import tqdm\n",
    "import copy\n",
    "from IPython.display import clear_output\n",
    "\n",
    "from util.util_cnn import CNNModel, data_loaders, first_mnist_batch, test, \\\n",
    "                params_to_filename, params_from_filename, load_mnist_v4_models\n",
    "\n",
    "from util.naming import *\n",
    "from util.util_lrp import layerwise_forward_pass, compute_relevancies, LRP_global_mat, calc_mats_batch_functional, forward_and_explain\n",
    "from util.util_tutorial import heatmap\n",
    "from util.util_pickle import *\n",
    "from util.util_data_summary import gridlrp_load_results, gridlrp_print_best_and_worst, gridlrp_plot_metric_terrain, gridlrp_plot_metric_terrain_for_tags, \\\n",
    "llrp_plot_training_for_tags\n",
    "\n",
    "# pan kessel\n",
    "from explanations_can_be_manipulated.src.nn.enums import ExplainingMethod, LRPRule\n",
    "from explanations_can_be_manipulated.src.nn.networks import ExplainableNet\n",
    "from explanations_can_be_manipulated.src.nn.utils import get_expl, plot_overview, clamp, load_image, make_dir\n",
    "\n",
    "device = 'cpu'\n",
    "method = ExplainingMethod.lrp"
   ]
  },
  {
   "cell_type": "code",
   "execution_count": 3,
   "id": "4ffd4821",
   "metadata": {},
   "outputs": [],
   "source": [
    "%matplotlib inline"
   ]
  },
  {
   "cell_type": "code",
   "execution_count": 4,
   "id": "9afe009d-5f8d-4880-9a51-2deac3069114",
   "metadata": {},
   "outputs": [
    {
     "name": "stderr",
     "output_type": "stream",
     "text": [
      "100%|██████████| 1555/1555 [00:06<00:00, 233.58it/s]\n"
     ]
    }
   ],
   "source": [
    "# load data and pretrained models\n",
    "batch_size = 100\n",
    "\n",
    "data, target = first_mnist_batch(batch_size=batch_size)\n",
    "background, background_target = first_mnist_batch(batch_size=batch_size, test=False)\n",
    "\n",
    "background = background.reshape((-1, 1, 28, 28))\n",
    "test_images = data[:3].reshape((-1, 1, 28, 28))\n",
    "\n",
    "shap_config = 'shap__background_size-100__batch_size-10__model-cb1-8-8-8_cb2-16-16-16_seed-0'\n",
    "test_loader_shap = data_loaders(shapley_values_for=('d3', shap_config), shuffle=False, batch_size=batch_size)\n",
    "\n",
    "model_dict = load_mnist_v4_models()\n",
    "model_d3 = model_dict[d3_tag]"
   ]
  },
  {
   "attachments": {},
   "cell_type": "markdown",
   "id": "91869414",
   "metadata": {},
   "source": [
    "## Comparing the Operator norm of every LRP backward step to the 'Operator norm' of the normalization step in the end\n",
    "The multiplied operator norms are much larger than the factor by which the absolute norm dampens the heatmaps. This is esepcially true for gamma=0."
   ]
  },
  {
   "cell_type": "code",
   "execution_count": 62,
   "id": "df6e34d7",
   "metadata": {},
   "outputs": [
    {
     "name": "stdout",
     "output_type": "stream",
     "text": [
      "0 Conv2d\n",
      "2 Conv2d\n",
      "4 Conv2d\n",
      "6 MaxPool2d\n",
      "7 Conv2d\n",
      "9 Conv2d\n",
      "11 Conv2d\n",
      "13 MaxPool2d\n",
      "14 Flatten\n",
      "15 Conv2d\n"
     ]
    },
    {
     "data": {
      "application/vnd.jupyter.widget-view+json": {
       "model_id": "cd41f3109bc641b9a8db6c5e4a20cc2f",
       "version_major": 2,
       "version_minor": 0
      },
      "text/plain": [
       "  0%|          | 0/10 [00:00<?, ?it/s]"
      ]
     },
     "metadata": {},
     "output_type": "display_data"
    },
    {
     "data": {
      "application/vnd.jupyter.widget-view+json": {
       "model_id": "44916074d12f4da4b42d6af355120466",
       "version_major": 2,
       "version_minor": 0
      },
      "text/plain": [
       "0it [00:00, ?it/s]"
      ]
     },
     "metadata": {},
     "output_type": "display_data"
    },
    {
     "data": {
      "application/vnd.jupyter.widget-view+json": {
       "model_id": "78d76941ffbe4aa0912f70ada0e12b52",
       "version_major": 2,
       "version_minor": 0
      },
      "text/plain": [
       "0it [00:00, ?it/s]"
      ]
     },
     "metadata": {},
     "output_type": "display_data"
    },
    {
     "data": {
      "application/vnd.jupyter.widget-view+json": {
       "model_id": "5a8cddd330384a14a62bc4aee5be8008",
       "version_major": 2,
       "version_minor": 0
      },
      "text/plain": [
       "0it [00:00, ?it/s]"
      ]
     },
     "metadata": {},
     "output_type": "display_data"
    },
    {
     "data": {
      "application/vnd.jupyter.widget-view+json": {
       "model_id": "172e8819e8df4737a74f65e55c6df34e",
       "version_major": 2,
       "version_minor": 0
      },
      "text/plain": [
       "0it [00:00, ?it/s]"
      ]
     },
     "metadata": {},
     "output_type": "display_data"
    },
    {
     "data": {
      "application/vnd.jupyter.widget-view+json": {
       "model_id": "58bdd9cce1a143d4b26d38704348947e",
       "version_major": 2,
       "version_minor": 0
      },
      "text/plain": [
       "0it [00:00, ?it/s]"
      ]
     },
     "metadata": {},
     "output_type": "display_data"
    },
    {
     "data": {
      "application/vnd.jupyter.widget-view+json": {
       "model_id": "c95afc78952f473e8714e4c3cc347b78",
       "version_major": 2,
       "version_minor": 0
      },
      "text/plain": [
       "0it [00:00, ?it/s]"
      ]
     },
     "metadata": {},
     "output_type": "display_data"
    },
    {
     "data": {
      "application/vnd.jupyter.widget-view+json": {
       "model_id": "3f678eb136584bfa8df4a1323a736f97",
       "version_major": 2,
       "version_minor": 0
      },
      "text/plain": [
       "0it [00:00, ?it/s]"
      ]
     },
     "metadata": {},
     "output_type": "display_data"
    },
    {
     "data": {
      "application/vnd.jupyter.widget-view+json": {
       "model_id": "792d50af589e46918ab361c779cf59c3",
       "version_major": 2,
       "version_minor": 0
      },
      "text/plain": [
       "0it [00:00, ?it/s]"
      ]
     },
     "metadata": {},
     "output_type": "display_data"
    },
    {
     "data": {
      "application/vnd.jupyter.widget-view+json": {
       "model_id": "b5f961f182b8466ab31154b3df5203ea",
       "version_major": 2,
       "version_minor": 0
      },
      "text/plain": [
       "0it [00:00, ?it/s]"
      ]
     },
     "metadata": {},
     "output_type": "display_data"
    },
    {
     "data": {
      "application/vnd.jupyter.widget-view+json": {
       "model_id": "5a6968f3e5fc4de58737b2d919c7a146",
       "version_major": 2,
       "version_minor": 0
      },
      "text/plain": [
       "0it [00:00, ?it/s]"
      ]
     },
     "metadata": {},
     "output_type": "display_data"
    },
    {
     "data": {
      "application/vnd.jupyter.widget-view+json": {
       "model_id": "87aed2ce9ae64153b56ec9f7dd6e5854",
       "version_major": 2,
       "version_minor": 0
      },
      "text/plain": [
       "0it [00:00, ?it/s]"
      ]
     },
     "metadata": {},
     "output_type": "display_data"
    },
    {
     "data": {
      "application/vnd.jupyter.widget-view+json": {
       "model_id": "35fe68744b3d4ba1a3addc96e03290c5",
       "version_major": 2,
       "version_minor": 0
      },
      "text/plain": [
       "0it [00:00, ?it/s]"
      ]
     },
     "metadata": {},
     "output_type": "display_data"
    },
    {
     "data": {
      "application/vnd.jupyter.widget-view+json": {
       "model_id": "9e2a78f8456d475882db947890ebc0af",
       "version_major": 2,
       "version_minor": 0
      },
      "text/plain": [
       "0it [00:00, ?it/s]"
      ]
     },
     "metadata": {},
     "output_type": "display_data"
    },
    {
     "data": {
      "application/vnd.jupyter.widget-view+json": {
       "model_id": "027161674e6c406aac9fe4c3ce3af89b",
       "version_major": 2,
       "version_minor": 0
      },
      "text/plain": [
       "0it [00:00, ?it/s]"
      ]
     },
     "metadata": {},
     "output_type": "display_data"
    },
    {
     "data": {
      "application/vnd.jupyter.widget-view+json": {
       "model_id": "6e69bc4dbd534bdf813a11c3eb60fbbd",
       "version_major": 2,
       "version_minor": 0
      },
      "text/plain": [
       "0it [00:00, ?it/s]"
      ]
     },
     "metadata": {},
     "output_type": "display_data"
    },
    {
     "data": {
      "application/vnd.jupyter.widget-view+json": {
       "model_id": "3859b77c854842c7854783a302cc8e7a",
       "version_major": 2,
       "version_minor": 0
      },
      "text/plain": [
       "0it [00:00, ?it/s]"
      ]
     },
     "metadata": {},
     "output_type": "display_data"
    },
    {
     "data": {
      "application/vnd.jupyter.widget-view+json": {
       "model_id": "589c925dad9c4e49b03b04cee51378a8",
       "version_major": 2,
       "version_minor": 0
      },
      "text/plain": [
       "0it [00:00, ?it/s]"
      ]
     },
     "metadata": {},
     "output_type": "display_data"
    },
    {
     "data": {
      "application/vnd.jupyter.widget-view+json": {
       "model_id": "f0b7b7bb8d4a4d16ad9dff2176358f04",
       "version_major": 2,
       "version_minor": 0
      },
      "text/plain": [
       "0it [00:00, ?it/s]"
      ]
     },
     "metadata": {},
     "output_type": "display_data"
    },
    {
     "data": {
      "application/vnd.jupyter.widget-view+json": {
       "model_id": "110512a04d2f4f08a9ad486a6230633c",
       "version_major": 2,
       "version_minor": 0
      },
      "text/plain": [
       "0it [00:00, ?it/s]"
      ]
     },
     "metadata": {},
     "output_type": "display_data"
    },
    {
     "data": {
      "application/vnd.jupyter.widget-view+json": {
       "model_id": "7c096228e4394a0abd02e1839cbac558",
       "version_major": 2,
       "version_minor": 0
      },
      "text/plain": [
       "0it [00:00, ?it/s]"
      ]
     },
     "metadata": {},
     "output_type": "display_data"
    }
   ],
   "source": [
    "from functools import partial\n",
    "from util.util_gamma_rule import calc_vals_batch\n",
    "\n",
    "l_indices=[0,2,4,6,7,9,11,13,14,15]\n",
    "for i in l_indices:\n",
    "    print(i, str(layers[i]).split('(')[0])\n",
    "\n",
    "n_points = 2\n",
    "gammas = [0, .5]\n",
    "\n",
    "mat_funcs = [partial(LRP_global_mat, model=model_d3, l_inp=l_inp, l_out=l_inp+1, delete_unactivated_subnetwork=True) for l_inp in l_indices]\n",
    "LRP__individual_layer = calc_mats_batch_functional(mat_funcs, gammas, data[:n_points].reshape((n_points, -1)))\n",
    "LRP__individual_layer.shape, LRP__individual_layer[:, :1, :1]\n",
    "\n",
    "svals__individual_layer, _ = calc_vals_batch(LRP__individual_layer, num_vals=1, tqdm_for=\"gamma\")"
   ]
  },
  {
   "cell_type": "code",
   "execution_count": 69,
   "id": "4fc1bb4e",
   "metadata": {},
   "outputs": [
    {
     "name": "stdout",
     "output_type": "stream",
     "text": [
      "0 Conv2d \t [2.3 2.3]\n",
      "2 Conv2d \t [725.8   2.1]\n",
      "4 Conv2d \t [1053.6    2.8]\n",
      "6 MaxPool2d \t [1. 1.]\n",
      "7 Conv2d \t [205.7   2.5]\n",
      "9 Conv2d \t [90.4  3. ]\n",
      "11 Conv2d \t [258.4   2.4]\n",
      "13 MaxPool2d \t [1. 1.]\n",
      "14 Flatten \t [1. 1.]\n",
      "15 Conv2d \t [3.7 0.8]\n"
     ]
    }
   ],
   "source": [
    "i_point=0\n",
    "\n",
    "for i, vals in zip(l_indices, svals__individual_layer[:, i_point, :, 0]):\n",
    "    print(i, str(layers[i]).split('(')[0], '\\t', vals.round(1))"
   ]
  },
  {
   "cell_type": "code",
   "execution_count": 73,
   "id": "4b8be8d5",
   "metadata": {},
   "outputs": [
    {
     "data": {
      "text/plain": [
       "array([[3.08578279e+13, 1.93490000e+02],\n",
       "       [3.35082642e+13, 1.89740000e+02]])"
      ]
     },
     "execution_count": 73,
     "metadata": {},
     "output_type": "execute_result"
    }
   ],
   "source": [
    "# multiplied operator norms, for two points, for two gammas.\n",
    "np.product(svals__individual_layer[:, :, :, 0], axis=0).round(2) "
   ]
  },
  {
   "cell_type": "code",
   "execution_count": 74,
   "id": "4b4831e8",
   "metadata": {},
   "outputs": [
    {
     "data": {
      "text/plain": [
       "(torch.Size([10, 1, 28, 28]),\n",
       " tensor([122.0199,  49.7096,  37.3286,  28.6131,  53.8422, 128.0465,  94.0852,\n",
       "          36.6746,  62.0457, 122.5443], grad_fn=<SumBackward1>))"
      ]
     },
     "execution_count": 74,
     "metadata": {},
     "output_type": "execute_result"
    }
   ],
   "source": [
    "# ... are much larger than the factor by which the absolute norm dampens the heatmaps. both for gamma=0 ...\n",
    "model = ExplainableNet(model_d3).eval().to(device)\n",
    "model.change_lrp_rules(gamma=0, lrp_rule_nl=LRPRule.gamma)\n",
    "x = data[:10]\n",
    "heatmap_full, _, _ = get_expl(model, x, method, full=True)\n",
    "heatmap_full.shape, heatmap_full.abs().sum(axis=(1,2,3))"
   ]
  },
  {
   "cell_type": "code",
   "execution_count": 75,
   "id": "4b4831e8",
   "metadata": {},
   "outputs": [
    {
     "data": {
      "text/plain": [
       "(torch.Size([10, 1, 28, 28]),\n",
       " tensor([13.1671,  7.9691, 14.9577, 16.0967, 18.5357, 14.4384, 22.9635, 13.0728,\n",
       "         24.0766,  9.3902], grad_fn=<SumBackward1>))"
      ]
     },
     "execution_count": 75,
     "metadata": {},
     "output_type": "execute_result"
    }
   ],
   "source": [
    "# ... and for gamma=.5 ...\n",
    "model = ExplainableNet(model_d3).eval().to(device)\n",
    "model.change_lrp_rules(gamma=0.5, lrp_rule_nl=LRPRule.gamma)\n",
    "x = data[:10]\n",
    "heatmap_full, _, _ = get_expl(model, x, method, full=True)\n",
    "heatmap_full.shape, heatmap_full.abs().sum(axis=(1,2,3))"
   ]
  },
  {
   "attachments": {},
   "cell_type": "markdown",
   "id": "d6134438",
   "metadata": {},
   "source": [
    "## Reading out the total positive and negative contributions to neurons in a network\n",
    "This investigates a small idea I had in the end. It led nowhere."
   ]
  },
  {
   "cell_type": "code",
   "execution_count": 5,
   "id": "4a3577cd",
   "metadata": {},
   "outputs": [],
   "source": [
    "import util.util_tutorial as tut_utils\n",
    "from util.util_gamma_rule import global_conv_matrix_from_pytorch_layer\n",
    "from copy import deepcopy"
   ]
  },
  {
   "cell_type": "code",
   "execution_count": 89,
   "id": "22dd9096",
   "metadata": {},
   "outputs": [],
   "source": [
    "\n",
    "model_dict = load_mnist_v4_models()\n",
    "model_d3 = model_dict[d3_tag]"
   ]
  },
  {
   "cell_type": "code",
   "execution_count": 6,
   "id": "f749d952",
   "metadata": {},
   "outputs": [],
   "source": []
  },
  {
   "cell_type": "code",
   "execution_count": 7,
   "id": "094043b7",
   "metadata": {},
   "outputs": [
    {
     "name": "stdout",
     "output_type": "stream",
     "text": [
      "0 torch.Size([8, 1, 3, 3])\n",
      "2 torch.Size([8, 8, 3, 3])\n",
      "4 torch.Size([8, 8, 5, 5])\n",
      "7 torch.Size([16, 8, 5, 5])\n",
      "9 torch.Size([16, 16, 3, 3])\n",
      "11 torch.Size([16, 16, 3, 3])\n",
      "15 torch.Size([10, 256, 1, 1])\n"
     ]
    }
   ],
   "source": [
    "A, A_pos, A_neg, layers = layerwise_forward_pass(model_d3, data, pos_neg=True)\n",
    "L = len(layers)\n",
    "\n",
    "A_shapes = [a.shape[1:] for a in A]"
   ]
  },
  {
   "cell_type": "code",
   "execution_count": 8,
   "id": "8a0fd1e2",
   "metadata": {},
   "outputs": [],
   "source": [
    "i = 2\n"
   ]
  },
  {
   "cell_type": "code",
   "execution_count": 16,
   "id": "851c6592",
   "metadata": {},
   "outputs": [],
   "source": [
    "\n",
    "conv_layer = deepcopy(model_d3.seq[i])\n",
    "conv_layer.bias = None\n",
    "\n",
    "out_img = conv_layer.forward(A[i][:1])\n",
    "\n",
    "# direct computation of the global transiton matrix\n",
    "trans = global_conv_matrix_from_pytorch_layer(conv_layer, A_shapes[i], A_shapes[i+1])\n",
    "out_vec = trans @ A[i][:1].flatten().detach().numpy()\n",
    "\n",
    "# check equality of results between matrix representation and conv layer.\n",
    "a, b = out_img.detach().flatten(), out_vec\n",
    "assert np.allclose(a, b, atol=1e-4), f\"Output result by global transition matrix is unequal to direct pytorch computation. Max difference: {(a-b).abs().max()}\""
   ]
  },
  {
   "cell_type": "code",
   "execution_count": 17,
   "id": "1699412b",
   "metadata": {},
   "outputs": [
    {
     "data": {
      "text/plain": [
       "(6272, 6272)"
      ]
     },
     "execution_count": 17,
     "metadata": {},
     "output_type": "execute_result"
    }
   ],
   "source": [
    "trans.toarray().shape"
   ]
  },
  {
   "cell_type": "code",
   "execution_count": 11,
   "id": "edac21ae",
   "metadata": {},
   "outputs": [
    {
     "data": {
      "text/plain": [
       "577"
      ]
     },
     "execution_count": 11,
     "metadata": {},
     "output_type": "execute_result"
    }
   ],
   "source": [
    "len(np.unique(W.toarray()))"
   ]
  },
  {
   "cell_type": "code",
   "execution_count": 140,
   "id": "9aea7676",
   "metadata": {},
   "outputs": [
    {
     "data": {
      "text/plain": [
       "576"
      ]
     },
     "execution_count": 140,
     "metadata": {},
     "output_type": "execute_result"
    }
   ],
   "source": [
    "len(np.unique(conv_layer.weight.data))"
   ]
  },
  {
   "cell_type": "code",
   "execution_count": 85,
   "id": "dafedaed",
   "metadata": {},
   "outputs": [
    {
     "data": {
      "text/plain": [
       "((3137,), (3137, 6272))"
      ]
     },
     "execution_count": 85,
     "metadata": {},
     "output_type": "execute_result"
    }
   ],
   "source": [
    "z = A[i+1][0].flatten().detach().numpy()\n",
    "p = A_pos[i+1][0].flatten().detach().numpy()\n",
    "n = A_neg[i+1][0].flatten().detach().numpy()\n",
    "\n",
    "mask = z > 0\n",
    "\n",
    "z = z[mask]\n",
    "p = p[mask]\n",
    "n = n[mask]\n",
    "W = trans.toarray()[mask]\n",
    "\n",
    "\n",
    "\n",
    "z.shape, W.shape"
   ]
  },
  {
   "cell_type": "code",
   "execution_count": 86,
   "id": "6491d87b",
   "metadata": {},
   "outputs": [
    {
     "data": {
      "text/plain": [
       "array([  79,   80,   81,  107,  108,  109,  135,  136,  137,  888,  889,\n",
       "        890,  916,  917,  918,  944,  945,  946, 1672, 1673, 1674, 1700,\n",
       "       1701, 1702, 1724, 1725, 1726, 2619, 2620, 2621, 2642, 2643, 2644,\n",
       "       2663, 2664, 2665])"
      ]
     },
     "execution_count": 86,
     "metadata": {},
     "output_type": "execute_result"
    }
   ],
   "source": [
    "j = 80\n",
    "K, J = W.shape\n",
    "\n",
    "ks = np.arange(K)[W[:, j] != 0]\n",
    "ks"
   ]
  },
  {
   "cell_type": "code",
   "execution_count": 87,
   "id": "c88a5da1",
   "metadata": {},
   "outputs": [
    {
     "data": {
      "text/plain": [
       "((1260, 2),\n",
       " array([[  79,   80],\n",
       "        [  79,   81],\n",
       "        [  79,  107],\n",
       "        ...,\n",
       "        [2665, 2644],\n",
       "        [2665, 2663],\n",
       "        [2665, 2664]]))"
      ]
     },
     "execution_count": 87,
     "metadata": {},
     "output_type": "execute_result"
    }
   ],
   "source": [
    "pairs = np.stack((np.repeat(ks, len(ks)), np.tile(ks, len(ks)))).T # .reshape(len(ks), len(ks), 2)\n",
    "pairs = pairs[pairs[:, 0] != pairs[:, 1]]\n",
    "pairs.shape, pairs"
   ]
  },
  {
   "cell_type": "code",
   "execution_count": 88,
   "id": "e32736ef",
   "metadata": {},
   "outputs": [],
   "source": [
    "p_pairs = p[pairs]\n",
    "n_pairs = n[pairs]"
   ]
  },
  {
   "cell_type": "code",
   "execution_count": 105,
   "id": "a502b720",
   "metadata": {},
   "outputs": [],
   "source": [
    "frac_g0 = p_pairs+n_pairs\n",
    "frac_g0 = frac_g0[:, 0] / frac_g0[:, 1]\n",
    "frac_gi = p_pairs\n",
    "frac_gi = frac_gi[:, 0] / frac_gi[:, 1]"
   ]
  },
  {
   "cell_type": "code",
   "execution_count": 104,
   "id": "debfd7cb",
   "metadata": {},
   "outputs": [
    {
     "data": {
      "text/plain": [
       "array([[0.16468266, 0.16468266],\n",
       "       [0.16468266, 0.16468266],\n",
       "       [0.16468266, 0.16468266],\n",
       "       ...,\n",
       "       [0.11550689, 0.11550689],\n",
       "       [0.11550689, 0.11550689],\n",
       "       [0.11550689, 0.11550689]], dtype=float32)"
      ]
     },
     "execution_count": 104,
     "metadata": {},
     "output_type": "execute_result"
    }
   ],
   "source": [
    "frac_g0"
   ]
  },
  {
   "cell_type": "code",
   "execution_count": 135,
   "id": "dc37a742",
   "metadata": {},
   "outputs": [
    {
     "data": {
      "text/plain": [
       "((1260,),\n",
       " array([ 0.72735756,  1.55067917,  0.52695174, ..., -0.14613444,\n",
       "        -0.27492972,  0.12327069]))"
      ]
     },
     "execution_count": 135,
     "metadata": {},
     "output_type": "execute_result"
    }
   ],
   "source": [
    "frac_w = W[pairs, j]\n",
    "frac_w = frac_w[:, 0] / frac_w[:, 1] # todo check order\n",
    "frac_w.shape, frac_w"
   ]
  },
  {
   "cell_type": "code",
   "execution_count": 136,
   "id": "9b3e89de",
   "metadata": {},
   "outputs": [],
   "source": [
    "l = np.minimum(frac_g0, frac_gi)\n",
    "u = np.maximum(frac_g0, frac_gi)"
   ]
  },
  {
   "cell_type": "code",
   "execution_count": 137,
   "id": "5f83f450",
   "metadata": {},
   "outputs": [
    {
     "data": {
      "text/plain": [
       "[<matplotlib.lines.Line2D at 0x132e19ed0>]"
      ]
     },
     "execution_count": 137,
     "metadata": {},
     "output_type": "execute_result"
    },
    {
     "data": {
      "image/png": "[encoded data removed]",
      "text/plain": [
       "<Figure size 640x480 with 1 Axes>"
      ]
     },
     "metadata": {},
     "output_type": "display_data"
    }
   ],
   "source": [
    "ord = np.argsort(l)\n",
    "plt.plot(l[ord])\n",
    "plt.plot(u[ord])\n",
    "# plt.plot(frac_w[ord])"
   ]
  },
  {
   "cell_type": "code",
   "execution_count": 138,
   "id": "556c7c0a",
   "metadata": {},
   "outputs": [
    {
     "data": {
      "text/plain": [
       "[<matplotlib.lines.Line2D at 0x132e60340>]"
      ]
     },
     "execution_count": 138,
     "metadata": {},
     "output_type": "execute_result"
    },
    {
     "data": {
      "image/png": "[encoded data removed]",
      "text/plain": [
       "<Figure size 640x480 with 1 Axes>"
      ]
     },
     "metadata": {},
     "output_type": "display_data"
    }
   ],
   "source": [
    "x = np.arange(len(l))\n",
    "y = frac_w[ord]\n",
    "plt.plot(frac_w[ord])"
   ]
  },
  {
   "cell_type": "code",
   "execution_count": null,
   "id": "410bda8d",
   "metadata": {},
   "outputs": [],
   "source": []
  },
  {
   "cell_type": "code",
   "execution_count": 139,
   "id": "901a2504",
   "metadata": {},
   "outputs": [
    {
     "data": {
      "text/plain": [
       "0.6666666666666666"
      ]
     },
     "execution_count": 139,
     "metadata": {},
     "output_type": "execute_result"
    }
   ],
   "source": [
    "# frac of negative filter entries\n",
    "np.mean(W[:, j][W[:, j] != 0] < 0)"
   ]
  },
  {
   "cell_type": "code",
   "execution_count": 140,
   "id": "901a2504",
   "metadata": {},
   "outputs": [
    {
     "data": {
      "text/plain": [
       "0.5428571428571428"
      ]
     },
     "execution_count": 140,
     "metadata": {},
     "output_type": "execute_result"
    }
   ],
   "source": [
    "# as their is a bias of filter weights to be of a certain sign, more than half of the fractions of filter weights are positive\n",
    "# in the remaining 45%, of combinationg gamma=inf minimizes the distance.\n",
    "np.mean(frac_w > 0)"
   ]
  },
  {
   "cell_type": "code",
   "execution_count": 141,
   "id": "1600ea05",
   "metadata": {},
   "outputs": [],
   "source": [
    "# handle positive cases only:\n",
    "mask = frac_w > 0\n",
    "p_frac_w = frac_w[mask]\n",
    "\n",
    "p_frac_g0 = frac_g0[mask]\n",
    "p_frac_gi = frac_gi[mask]\n",
    "\n",
    "p_l = l[mask]\n",
    "p_u = u[mask]"
   ]
  },
  {
   "cell_type": "code",
   "execution_count": 142,
   "id": "901a2504",
   "metadata": {},
   "outputs": [
    {
     "data": {
      "text/plain": [
       "0.4342105263157895"
      ]
     },
     "execution_count": 142,
     "metadata": {},
     "output_type": "execute_result"
    }
   ],
   "source": [
    "np.mean(p_frac_w > p_u)"
   ]
  },
  {
   "cell_type": "code",
   "execution_count": 143,
   "id": "6b05c931",
   "metadata": {},
   "outputs": [
    {
     "data": {
      "text/plain": [
       "0.5409356725146199"
      ]
     },
     "execution_count": 143,
     "metadata": {},
     "output_type": "execute_result"
    }
   ],
   "source": [
    "diff_to_g0 = np.abs(p_frac_w - p_frac_g0)\n",
    "diff_to_gi = np.abs(p_frac_w - p_frac_gi)\n",
    "\n",
    "np.mean(diff_to_g0 > diff_to_gi)"
   ]
  },
  {
   "cell_type": "code",
   "execution_count": 144,
   "id": "7bfdd3aa",
   "metadata": {},
   "outputs": [
    {
     "data": {
      "text/plain": [
       "(array([1., 1., 1., ..., 1., 1., 1.], dtype=float32),\n",
       " array([1., 1., 1., ..., 1., 1., 1.], dtype=float32))"
      ]
     },
     "execution_count": 144,
     "metadata": {},
     "output_type": "execute_result"
    }
   ],
   "source": [
    "l, u"
   ]
  },
  {
   "cell_type": "code",
   "execution_count": 145,
   "id": "7c3e5914",
   "metadata": {},
   "outputs": [
    {
     "data": {
      "text/plain": [
       "0.13157894736842105"
      ]
     },
     "execution_count": 145,
     "metadata": {},
     "output_type": "execute_result"
    }
   ],
   "source": [
    "## In the subset where the weights have the same sign, 11% of cases can be optimized by gamma in ]0, inf[\n",
    "np.mean(np.logical_and(p_l <= p_frac_w, p_frac_w <= p_u))"
   ]
  },
  {
   "attachments": {},
   "cell_type": "markdown",
   "id": "6da01c72",
   "metadata": {},
   "source": [
    "#### Going back to full picture"
   ]
  },
  {
   "cell_type": "code",
   "execution_count": 146,
   "id": "52c7fa8d",
   "metadata": {},
   "outputs": [],
   "source": [
    "mask = np.logical_and(l <= frac_w, frac_w <= u)\n",
    "f_frac_w = frac_w[mask]\n",
    "f_p_pairs = p_pairs[mask]\n",
    "f_n_pairs = n_pairs[mask]"
   ]
  },
  {
   "cell_type": "code",
   "execution_count": 147,
   "id": "4561d571",
   "metadata": {},
   "outputs": [
    {
     "data": {
      "text/plain": [
       "array([0.08178144, 0.02394903, 0.52076172, 0.02409773, 0.88169018,\n",
       "       0.5828347 , 0.5927909 , 0.66835076, 0.58684893, 0.643311  ,\n",
       "       0.87270127, 0.27906567, 0.81845348, 0.11820721, 0.5828347 ,\n",
       "       0.6816883 , 0.58749678, 0.65284363, 0.9140333 , 0.5927909 ,\n",
       "       0.68030047, 0.58587648, 0.65138593, 0.91316588, 0.05121899,\n",
       "       0.64477097, 0.50655609, 0.38133427, 0.46842992, 0.80674788,\n",
       "       0.95509749, 0.78898741, 0.73571884, 0.5272542 , 0.9788051 ,\n",
       "       0.37171209, 0.99231915, 0.81845348, 0.27906567, 0.11820721,\n",
       "       0.73571884, 0.5706427 , 0.94039591, 0.95509749, 0.4474293 ,\n",
       "       0.90616409, 0.08178144, 0.66835076, 0.6816883 , 0.68030047,\n",
       "       0.50655609, 0.5272542 , 0.74323314, 0.58684893, 0.58749678,\n",
       "       0.58587648, 0.38133427, 0.9788051 , 0.9845092 , 0.55160884,\n",
       "       0.02394903, 0.643311  , 0.65284363, 0.65138593, 0.46842992,\n",
       "       0.37171209, 0.66810384, 0.99056825, 0.52076172, 0.02409773,\n",
       "       0.87270127, 0.9140333 , 0.91316588, 0.05121899, 0.80674788,\n",
       "       0.23196599, 0.99231915, 0.4474293 , 0.74323314, 0.9845092 ,\n",
       "       0.66810384, 0.5706427 , 0.94039591, 0.55160884, 0.88169018,\n",
       "       0.64477097, 0.23196599, 0.78898741, 0.90616409, 0.99056825])"
      ]
     },
     "execution_count": 147,
     "metadata": {},
     "output_type": "execute_result"
    }
   ],
   "source": [
    "(f_frac_w * f_p_pairs[:, 1] - f_p_pairs[:, 0]) / (f_n_pairs[:, 0] - f_frac_w * f_n_pairs[:, 1])"
   ]
  }
 ],
 "metadata": {
  "kernelspec": {
   "display_name": "msc",
   "language": "python",
   "name": "python3"
  },
  "language_info": {
   "codemirror_mode": {
    "name": "ipython",
    "version": 3
   },
   "file_extension": ".py",
   "mimetype": "text/x-python",
   "name": "python",
   "nbconvert_exporter": "python",
   "pygments_lexer": "ipython3",
   "version": "3.10.9"
  },
  "vscode": {
   "interpreter": {
    "hash": "f3ff92f223ffb6d6ea1150a475644bca5c15982bf2ffdfebd05287032d5fb538"
   }
  }
 },
 "nbformat": 4,
 "nbformat_minor": 5
}
