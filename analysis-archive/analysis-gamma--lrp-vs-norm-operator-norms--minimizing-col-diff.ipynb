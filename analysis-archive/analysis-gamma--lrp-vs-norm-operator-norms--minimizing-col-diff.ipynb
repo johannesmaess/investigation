{
 "cells": [
  {
   "cell_type": "code",
   "execution_count": 2,
   "id": "97626eca-2811-4aae-b2ab-92c50361814a",
   "metadata": {},
   "outputs": [
    {
     "name": "stdout",
     "output_type": "stream",
     "text": [
      "no display found. Using non-interactive Agg backend\n"
     ]
    }
   ],
   "source": [
    "%load_ext autoreload\n",
    "%autoreload 2\n",
    "\n",
    "# import shap\n",
    "import numpy as np\n",
    "import torch\n",
    "import torch.nn.functional as F\n",
    "import matplotlib as mpl\n",
    "import matplotlib.pyplot as plt\n",
    "\n",
    "from tqdm import tqdm\n",
    "import copy\n",
    "from IPython.display import clear_output\n",
    "\n",
    "from util.util_cnn import CNNModel, data_loaders, first_mnist_batch, test, \\\n",
    "                params_to_filename, params_from_filename, load_mnist_v4_models\n",
    "\n",
    "from util.naming import *\n",
    "from util.util_lrp import layerwise_forward_pass, compute_relevancies, LRP_global_mat, calc_mats_batch_functional, forward_and_explain\n",
    "from util.util_tutorial import heatmap\n",
    "from util.util_pickle import *\n",
    "from util.util_data_summary import gridlrp_load_results, gridlrp_print_best_and_worst, gridlrp_plot_metric_terrain, gridlrp_plot_metric_terrain_for_tags, \\\n",
    "llrp_plot_training_for_tags\n",
    "\n",
    "# pan kessel\n",
    "from explanations_can_be_manipulated.src.nn.enums import ExplainingMethod, LRPRule\n",
    "from explanations_can_be_manipulated.src.nn.networks import ExplainableNet\n",
    "from explanations_can_be_manipulated.src.nn.utils import get_expl, plot_overview, clamp, load_image, make_dir\n",
    "\n",
    "device = 'cpu'\n",
    "method = ExplainingMethod.lrp"
   ]
  },
  {
   "cell_type": "code",
   "execution_count": 3,
   "id": "4ffd4821",
   "metadata": {},
   "outputs": [],
   "source": [
    "%matplotlib inline"
   ]
  },
  {
   "cell_type": "code",
   "execution_count": 4,
   "id": "9afe009d-5f8d-4880-9a51-2deac3069114",
   "metadata": {},
   "outputs": [
    {
     "name": "stderr",
     "output_type": "stream",
     "text": [
      "100%|██████████| 4393/4393 [00:00<00:00, 8368.08it/s] \n"
     ]
    }
   ],
   "source": [
    "# load data and pretrained models\n",
    "batch_size = 100\n",
    "\n",
    "data, target = first_mnist_batch(batch_size=batch_size)\n",
    "background, background_target = first_mnist_batch(batch_size=batch_size, test=False)\n",
    "\n",
    "background = background.reshape((-1, 1, 28, 28))\n",
    "test_images = data[:3].reshape((-1, 1, 28, 28))\n",
    "\n",
    "shap_config = 'shap__background_size-100__batch_size-10__model-cb1-8-8-8_cb2-16-16-16_seed-0'\n",
    "test_loader_shap = data_loaders(shapley_values_for=('d3', shap_config), shuffle=False, batch_size=batch_size)\n",
    "\n",
    "model_dict = load_mnist_v4_models()\n",
    "model_d3 = model_dict[d3_tag]"
   ]
  },
  {
   "attachments": {},
   "cell_type": "markdown",
   "id": "91869414",
   "metadata": {},
   "source": [
    "## Comparing the Operator norm of every LRP backward step to the 'Operator norm' of the normalization step in the end\n",
    "The multiplied operator norms are much larger than the factor by which the absolute norm dampens the heatmaps. This is esepcially true for gamma=0."
   ]
  },
  {
   "cell_type": "code",
   "execution_count": 62,
   "id": "df6e34d7",
   "metadata": {},
   "outputs": [
    {
     "name": "stdout",
     "output_type": "stream",
     "text": [
      "0 Conv2d\n",
      "2 Conv2d\n",
      "4 Conv2d\n",
      "6 MaxPool2d\n",
      "7 Conv2d\n",
      "9 Conv2d\n",
      "11 Conv2d\n",
      "13 MaxPool2d\n",
      "14 Flatten\n",
      "15 Conv2d\n"
     ]
    },
    {
     "data": {
      "application/vnd.jupyter.widget-view+json": {
       "model_id": "cd41f3109bc641b9a8db6c5e4a20cc2f",
       "version_major": 2,
       "version_minor": 0
      },
      "text/plain": [
       "  0%|          | 0/10 [00:00<?, ?it/s]"
      ]
     },
     "metadata": {},
     "output_type": "display_data"
    },
    {
     "data": {
      "application/vnd.jupyter.widget-view+json": {
       "model_id": "44916074d12f4da4b42d6af355120466",
       "version_major": 2,
       "version_minor": 0
      },
      "text/plain": [
       "0it [00:00, ?it/s]"
      ]
     },
     "metadata": {},
     "output_type": "display_data"
    },
    {
     "data": {
      "application/vnd.jupyter.widget-view+json": {
       "model_id": "78d76941ffbe4aa0912f70ada0e12b52",
       "version_major": 2,
       "version_minor": 0
      },
      "text/plain": [
       "0it [00:00, ?it/s]"
      ]
     },
     "metadata": {},
     "output_type": "display_data"
    },
    {
     "data": {
      "application/vnd.jupyter.widget-view+json": {
       "model_id": "5a8cddd330384a14a62bc4aee5be8008",
       "version_major": 2,
       "version_minor": 0
      },
      "text/plain": [
       "0it [00:00, ?it/s]"
      ]
     },
     "metadata": {},
     "output_type": "display_data"
    },
    {
     "data": {
      "application/vnd.jupyter.widget-view+json": {
       "model_id": "172e8819e8df4737a74f65e55c6df34e",
       "version_major": 2,
       "version_minor": 0
      },
      "text/plain": [
       "0it [00:00, ?it/s]"
      ]
     },
     "metadata": {},
     "output_type": "display_data"
    },
    {
     "data": {
      "application/vnd.jupyter.widget-view+json": {
       "model_id": "58bdd9cce1a143d4b26d38704348947e",
       "version_major": 2,
       "version_minor": 0
      },
      "text/plain": [
       "0it [00:00, ?it/s]"
      ]
     },
     "metadata": {},
     "output_type": "display_data"
    },
    {
     "data": {
      "application/vnd.jupyter.widget-view+json": {
       "model_id": "c95afc78952f473e8714e4c3cc347b78",
       "version_major": 2,
       "version_minor": 0
      },
      "text/plain": [
       "0it [00:00, ?it/s]"
      ]
     },
     "metadata": {},
     "output_type": "display_data"
    },
    {
     "data": {
      "application/vnd.jupyter.widget-view+json": {
       "model_id": "3f678eb136584bfa8df4a1323a736f97",
       "version_major": 2,
       "version_minor": 0
      },
      "text/plain": [
       "0it [00:00, ?it/s]"
      ]
     },
     "metadata": {},
     "output_type": "display_data"
    },
    {
     "data": {
      "application/vnd.jupyter.widget-view+json": {
       "model_id": "792d50af589e46918ab361c779cf59c3",
       "version_major": 2,
       "version_minor": 0
      },
      "text/plain": [
       "0it [00:00, ?it/s]"
      ]
     },
     "metadata": {},
     "output_type": "display_data"
    },
    {
     "data": {
      "application/vnd.jupyter.widget-view+json": {
       "model_id": "b5f961f182b8466ab31154b3df5203ea",
       "version_major": 2,
       "version_minor": 0
      },
      "text/plain": [
       "0it [00:00, ?it/s]"
      ]
     },
     "metadata": {},
     "output_type": "display_data"
    },
    {
     "data": {
      "application/vnd.jupyter.widget-view+json": {
       "model_id": "5a6968f3e5fc4de58737b2d919c7a146",
       "version_major": 2,
       "version_minor": 0
      },
      "text/plain": [
       "0it [00:00, ?it/s]"
      ]
     },
     "metadata": {},
     "output_type": "display_data"
    },
    {
     "data": {
      "application/vnd.jupyter.widget-view+json": {
       "model_id": "87aed2ce9ae64153b56ec9f7dd6e5854",
       "version_major": 2,
       "version_minor": 0
      },
      "text/plain": [
       "0it [00:00, ?it/s]"
      ]
     },
     "metadata": {},
     "output_type": "display_data"
    },
    {
     "data": {
      "application/vnd.jupyter.widget-view+json": {
       "model_id": "35fe68744b3d4ba1a3addc96e03290c5",
       "version_major": 2,
       "version_minor": 0
      },
      "text/plain": [
       "0it [00:00, ?it/s]"
      ]
     },
     "metadata": {},
     "output_type": "display_data"
    },
    {
     "data": {
      "application/vnd.jupyter.widget-view+json": {
       "model_id": "9e2a78f8456d475882db947890ebc0af",
       "version_major": 2,
       "version_minor": 0
      },
      "text/plain": [
       "0it [00:00, ?it/s]"
      ]
     },
     "metadata": {},
     "output_type": "display_data"
    },
    {
     "data": {
      "application/vnd.jupyter.widget-view+json": {
       "model_id": "027161674e6c406aac9fe4c3ce3af89b",
       "version_major": 2,
       "version_minor": 0
      },
      "text/plain": [
       "0it [00:00, ?it/s]"
      ]
     },
     "metadata": {},
     "output_type": "display_data"
    },
    {
     "data": {
      "application/vnd.jupyter.widget-view+json": {
       "model_id": "6e69bc4dbd534bdf813a11c3eb60fbbd",
       "version_major": 2,
       "version_minor": 0
      },
      "text/plain": [
       "0it [00:00, ?it/s]"
      ]
     },
     "metadata": {},
     "output_type": "display_data"
    },
    {
     "data": {
      "application/vnd.jupyter.widget-view+json": {
       "model_id": "3859b77c854842c7854783a302cc8e7a",
       "version_major": 2,
       "version_minor": 0
      },
      "text/plain": [
       "0it [00:00, ?it/s]"
      ]
     },
     "metadata": {},
     "output_type": "display_data"
    },
    {
     "data": {
      "application/vnd.jupyter.widget-view+json": {
       "model_id": "589c925dad9c4e49b03b04cee51378a8",
       "version_major": 2,
       "version_minor": 0
      },
      "text/plain": [
       "0it [00:00, ?it/s]"
      ]
     },
     "metadata": {},
     "output_type": "display_data"
    },
    {
     "data": {
      "application/vnd.jupyter.widget-view+json": {
       "model_id": "f0b7b7bb8d4a4d16ad9dff2176358f04",
       "version_major": 2,
       "version_minor": 0
      },
      "text/plain": [
       "0it [00:00, ?it/s]"
      ]
     },
     "metadata": {},
     "output_type": "display_data"
    },
    {
     "data": {
      "application/vnd.jupyter.widget-view+json": {
       "model_id": "110512a04d2f4f08a9ad486a6230633c",
       "version_major": 2,
       "version_minor": 0
      },
      "text/plain": [
       "0it [00:00, ?it/s]"
      ]
     },
     "metadata": {},
     "output_type": "display_data"
    },
    {
     "data": {
      "application/vnd.jupyter.widget-view+json": {
       "model_id": "7c096228e4394a0abd02e1839cbac558",
       "version_major": 2,
       "version_minor": 0
      },
      "text/plain": [
       "0it [00:00, ?it/s]"
      ]
     },
     "metadata": {},
     "output_type": "display_data"
    }
   ],
   "source": [
    "from functools import partial\n",
    "from util.util_gamma_rule import calc_vals_batch\n",
    "\n",
    "l_indices=[0,2,4,6,7,9,11,13,14,15]\n",
    "for i in l_indices:\n",
    "    print(i, str(layers[i]).split('(')[0])\n",
    "\n",
    "n_points = 2\n",
    "gammas = [0, .5]\n",
    "\n",
    "mat_funcs = [partial(LRP_global_mat, model=model_d3, l_inp=l_inp, l_out=l_inp+1, delete_unactivated_subnetwork=True) for l_inp in l_indices]\n",
    "LRP__individual_layer = calc_mats_batch_functional(mat_funcs, gammas, data[:n_points].reshape((n_points, -1)))\n",
    "LRP__individual_layer.shape, LRP__individual_layer[:, :1, :1]\n",
    "\n",
    "svals__individual_layer, _ = calc_vals_batch(LRP__individual_layer, num_vals=1, tqdm_for=\"gamma\")"
   ]
  },
  {
   "cell_type": "code",
   "execution_count": null,
   "id": "c8d9e309",
   "metadata": {},
   "outputs": [
    {
     "name": "stdout",
     "output_type": "stream",
     "text": [
      "0 Conv2d \t [2.3 2.3]\n",
      "2 Conv2d \t [725.8   2.1]\n",
      "4 Conv2d \t [1053.6    2.8]\n",
      "6 MaxPool2d \t [1. 1.]\n",
      "7 Conv2d \t [205.7   2.5]\n",
      "9 Conv2d \t [90.4  3. ]\n",
      "11 Conv2d \t [258.4   2.4]\n",
      "13 MaxPool2d \t [1. 1.]\n",
      "14 Flatten \t [1. 1.]\n",
      "15 Conv2d \t [3.7 0.8]\n"
     ]
    }
   ],
   "source": [
    "i_point=0\n",
    "\n",
    "for i, vals in zip(l_indices, svals__individual_layer[:, i_point, :, 0]):\n",
    "    print(i, str(layers[i]).split('(')[0], '\\t', vals.round(1))"
   ]
  },
  {
   "cell_type": "code",
   "execution_count": 18,
   "id": "0410cd89",
   "metadata": {},
   "outputs": [
    {
     "name": "stdout",
     "output_type": "stream",
     "text": [
      "0 Conv2d\n",
      "2 Conv2d\n",
      "4 Conv2d\n",
      "6 MaxPool2d\n",
      "7 Conv2d\n",
      "9 Conv2d\n",
      "11 Conv2d\n",
      "13 MaxPool2d\n",
      "14 Flatten\n",
      "15 Conv2d\n"
     ]
    },
    {
     "name": "stderr",
     "output_type": "stream",
     "text": [
      "100%|██████████| 1/1 [00:00<00:00,  5.29it/s]\n"
     ]
    },
    {
     "name": "stdout",
     "output_type": "stream",
     "text": [
      "(1, 10, 2) [[[<139x4 sparse array of type '<class 'numpy.float32'>'\n",
      "   \twith 556 stored elements in COOrdinate format>      ]]]\n",
      "type(matrices): <class 'numpy.ndarray'>\n"
     ]
    },
    {
     "name": "stderr",
     "output_type": "stream",
     "text": [
      "2it [00:00, 1546.57it/s]\n",
      "2it [00:00, 2748.56it/s]\n",
      "2it [00:00, 1152.12it/s]\n",
      "2it [00:00, 1327.10it/s]\n",
      "2it [00:00, 1605.17it/s]\n",
      "2it [00:00, 1755.67it/s]\n",
      "2it [00:00, 1487.08it/s]\n",
      "2it [00:00, 1771.24it/s]\n",
      "2it [00:00, 1199.57it/s]\n",
      "2it [00:00, 2506.31it/s]\n"
     ]
    }
   ],
   "source": [
    "from functools import partial\n",
    "from util.util_gamma_rule import calc_vals_batch\n",
    "\n",
    "l_indices=[0,2,4,6,7,9,11,13,14,15]\n",
    "for i in l_indices:\n",
    "    print(i, str(layers[i]).split('(')[0])\n",
    "\n",
    "n_points =10\n",
    "gammas = [0, .5]\n",
    "\n",
    "mat_funcs = [partial(LRP_global_mat, model=model_d3, delete_unactivated_subnetwork=True)]\n",
    "LRP__all_layers = calc_mats_batch_functional(mat_funcs, gammas, data[:n_points].reshape((n_points, -1)))\n",
    "print(LRP__all_layers.shape, LRP__all_layers[:, :1, :1])\n",
    "\n",
    "svals__all_layers = calc_vals_batch(LRP__all_layers, num_vals=1, tqdm_for=\"gamma\")"
   ]
  },
  {
   "cell_type": "code",
   "execution_count": 31,
   "id": "2a84c71d",
   "metadata": {},
   "outputs": [
    {
     "name": "stdout",
     "output_type": "stream",
     "text": [
      "Smaller by factor of: [0.07315576 0.26226059 0.04344419 0.00877301 0.08568073 0.05913895\n",
      " 0.03357094 0.00762809 0.09217231 0.26065475]\n"
     ]
    }
   ],
   "source": [
    "i_point=0\n",
    "shrinkage_norm = svals__all_layers[0, :, 1, 0] / svals__all_layers[0, :, 0, 0]\n",
    "print(\"Smaller by factor of:\", shrinkage_norm)"
   ]
  },
  {
   "cell_type": "code",
   "execution_count": 73,
   "id": "4b8be8d5",
   "metadata": {},
   "outputs": [
    {
     "data": {
      "text/plain": [
       "array([[3.08578279e+13, 1.93490000e+02],\n",
       "       [3.35082642e+13, 1.89740000e+02]])"
      ]
     },
     "execution_count": 73,
     "metadata": {},
     "output_type": "execute_result"
    }
   ],
   "source": [
    "# multiplied operator norms, for two points, for two gammas.\n",
    "np.product(svals__individual_layer[:, :, :, 0], axis=0).round(2) "
   ]
  },
  {
   "cell_type": "code",
   "execution_count": 23,
   "id": "4b4831e8",
   "metadata": {},
   "outputs": [
    {
     "data": {
      "text/plain": [
       "(torch.Size([10, 1, 28, 28]),\n",
       " array([122.00882 ,  49.704636,  37.32843 ,  28.613033,  53.84018 ,\n",
       "        128.03743 ,  94.0966  ,  36.67325 ,  62.04492 , 122.58182 ],\n",
       "       dtype=float32))"
      ]
     },
     "execution_count": 23,
     "metadata": {},
     "output_type": "execute_result"
    }
   ],
   "source": [
    "# ... are much larger than the factor by which the absolute norm dampens the heatmaps. both for gamma=0 ...\n",
    "model = ExplainableNet(model_d3).eval().to(device)\n",
    "model.change_lrp_rules(gamma=0, lrp_rule_nl=LRPRule.gamma)\n",
    "x = data[:10]\n",
    "heatmap_full, _, _ = get_expl(model, x, method, full=True)\n",
    "heatmap_full.shape, heatmap_full.abs().sum(axis=(1,2,3))\n",
    "abs_sum_00 = heatmap_full.abs().sum(axis=(1,2,3)).detach().numpy()\n",
    "heatmap_full.shape, abs_sum_00"
   ]
  },
  {
   "cell_type": "code",
   "execution_count": 22,
   "id": "4b4831e8",
   "metadata": {},
   "outputs": [
    {
     "data": {
      "text/plain": [
       "(torch.Size([10, 1, 28, 28]),\n",
       " array([13.167138 ,  7.9690804, 14.957728 , 16.096722 , 18.535727 ,\n",
       "        14.438354 , 22.963457 , 13.072809 , 24.076612 ,  9.390237 ],\n",
       "       dtype=float32))"
      ]
     },
     "execution_count": 22,
     "metadata": {},
     "output_type": "execute_result"
    }
   ],
   "source": [
    "# ... and for gamma=.5 ...\n",
    "model = ExplainableNet(model_d3).eval().to(device)\n",
    "model.change_lrp_rules(gamma=0.5, lrp_rule_nl=LRPRule.gamma)\n",
    "x = data[:10]\n",
    "heatmap_full, _, _ = get_expl(model, x, method, full=True)\n",
    "abs_sum_05 = heatmap_full.abs().sum(axis=(1,2,3)).detach().numpy()\n",
    "heatmap_full.shape, abs_sum_05"
   ]
  },
  {
   "cell_type": "code",
   "execution_count": 28,
   "id": "f1d6e7a6",
   "metadata": {},
   "outputs": [
    {
     "data": {
      "text/plain": [
       "array([0.10791956, 0.16032872, 0.40070605, 0.56256604, 0.34427312,\n",
       "       0.11276666, 0.2440413 , 0.3564672 , 0.3880513 , 0.07660383],\n",
       "      dtype=float32)"
      ]
     },
     "execution_count": 28,
     "metadata": {},
     "output_type": "execute_result"
    }
   ],
   "source": [
    "(shrinkage_normalization := abs_sum_05 / abs_sum_00)"
   ]
  },
  {
   "cell_type": "code",
   "execution_count": 32,
   "id": "85b50d31",
   "metadata": {},
   "outputs": [
    {
     "data": {
      "text/plain": [
       "array([0.67787303, 1.63576802, 0.10841909, 0.01559464, 0.2488743 ,\n",
       "       0.52443648, 0.13756255, 0.02139914, 0.23752609, 3.40263335])"
      ]
     },
     "execution_count": 32,
     "metadata": {},
     "output_type": "execute_result"
    }
   ],
   "source": [
    "shrinkage_norm / shrinkage_normalization"
   ]
  }
 ],
 "metadata": {
  "kernelspec": {
   "display_name": "msc",
   "language": "python",
   "name": "python3"
  },
  "language_info": {
   "codemirror_mode": {
    "name": "ipython",
    "version": 3
   },
   "file_extension": ".py",
   "mimetype": "text/x-python",
   "name": "python",
   "nbconvert_exporter": "python",
   "pygments_lexer": "ipython3",
   "version": "3.10.9"
  },
  "vscode": {
   "interpreter": {
    "hash": "f3ff92f223ffb6d6ea1150a475644bca5c15982bf2ffdfebd05287032d5fb538"
   }
  }
 },
 "nbformat": 4,
 "nbformat_minor": 5
}
